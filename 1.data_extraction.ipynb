{
 "cells": [
  {
   "cell_type": "markdown",
   "metadata": {},
   "source": [
    "# Jorge Bueno Perez & Noam Shmuel"
   ]
  },
  {
   "cell_type": "markdown",
   "metadata": {},
   "source": [
    "# Text Mining and Social Media Mining, final project \n",
    "# Sentiment analysis performed on the transcripts and titles of youtube videos related to the game Cyberpunk 2077"
   ]
  },
  {
   "cell_type": "markdown",
   "metadata": {},
   "source": [
    "# Importing packages:"
   ]
  },
  {
   "cell_type": "code",
   "execution_count": 1,
   "metadata": {},
   "outputs": [],
   "source": [
    "import os\n",
    "from pytube import YouTube\n",
    "import moviepy.editor as mp\n",
    "import re\n",
    "import speech_recognition as sr\n",
    "from os import path\n",
    "from pydub import AudioSegment\n",
    "from youtubesearchpython import SearchVideos\n",
    "import pandas as pd\n",
    "import numpy as np"
   ]
  },
  {
   "cell_type": "markdown",
   "metadata": {},
   "source": [
    "# 1) Extracting urls, description, duration and views:"
   ]
  },
  {
   "cell_type": "markdown",
   "metadata": {},
   "source": [
    "### The `SearchVideos` function has a `limit of videos` to be found in each search, hence `17 different searchs` will be performed, such as `cyberpunk 2077 review`, `cyberpunk 2077 good`, `cyberpunk 2077 bad`..."
   ]
  },
  {
   "cell_type": "markdown",
   "metadata": {},
   "source": [
    "### As all the social media content like youtube is `dynamic`, the videos found could change over the time. This `search was performed on 16/12/2020` (6 days after the game was released)"
   ]
  },
  {
   "cell_type": "code",
   "execution_count": 2,
   "metadata": {},
   "outputs": [],
   "source": [
    "find = [\"cyberpunk 2077 review\",\n",
    "        \"cyberpunk 2077 good\",\n",
    "        \"cyberpunk 2077 bad\",\n",
    "        \"cyberpunk 2077 problem\",\n",
    "        \"cyberpunk 2077 best\",\n",
    "        \"cyberpunk 2077 recommended\",\n",
    "        \"cyberpunk game review\",\n",
    "        \"cyberpunk 2077 opinion\",\n",
    "        \"cyberpunk game opinion\",\n",
    "        \"cyberpunk 2077 analysis\",\n",
    "        \"cyberpunk game analysis\",\n",
    "        \"cyberpunk 2077 overview\",\n",
    "        \"cyberpunk game overview\",\n",
    "       \"cyberpunk 2077 ps4 review\",\n",
    "       \"cyberpunk 2077 xbox review\",\n",
    "       \"cyberpunk 2077 pc review\",\n",
    "       \"cyberpunk 2077 ps5 review\"]\n",
    "df= pd.DataFrame(columns=['url', 'description', 'duration', 'views'])\n",
    "for i in find:\n",
    "    search = SearchVideos(i, offset = 1, mode = \"list\", max_results = 20).result()\n",
    "    df= df.append(pd.DataFrame(search, columns=['id', 'ref', 'url', 'description', 'user', 'duration', 'views', 'img', 'ref1', 'ref2'])[['url', 'description', 'duration', 'views']])"
   ]
  },
  {
   "cell_type": "markdown",
   "metadata": {},
   "source": [
    "### It is possible that the found videos are repeated, hence the `duplicated videos` are going to be `removed`:"
   ]
  },
  {
   "cell_type": "code",
   "execution_count": 3,
   "metadata": {},
   "outputs": [],
   "source": [
    "df= df.drop_duplicates(subset=['url']) "
   ]
  },
  {
   "cell_type": "markdown",
   "metadata": {},
   "source": [
    "### Some extracted `videos are live`, also these are going to be `removed`:"
   ]
  },
  {
   "cell_type": "code",
   "execution_count": 4,
   "metadata": {},
   "outputs": [],
   "source": [
    "df= df[df.duration != \"LIVE\"] "
   ]
  },
  {
   "cell_type": "code",
   "execution_count": 7,
   "metadata": {},
   "outputs": [
    {
     "data": {
      "text/html": [
       "<div>\n",
       "<style scoped>\n",
       "    .dataframe tbody tr th:only-of-type {\n",
       "        vertical-align: middle;\n",
       "    }\n",
       "\n",
       "    .dataframe tbody tr th {\n",
       "        vertical-align: top;\n",
       "    }\n",
       "\n",
       "    .dataframe thead th {\n",
       "        text-align: right;\n",
       "    }\n",
       "</style>\n",
       "<table border=\"1\" class=\"dataframe\">\n",
       "  <thead>\n",
       "    <tr style=\"text-align: right;\">\n",
       "      <th></th>\n",
       "      <th>url</th>\n",
       "      <th>description</th>\n",
       "      <th>duration</th>\n",
       "      <th>views</th>\n",
       "    </tr>\n",
       "  </thead>\n",
       "  <tbody>\n",
       "    <tr>\n",
       "      <th>0</th>\n",
       "      <td>https://www.youtube.com/watch?v=0UiXx-_fL5U</td>\n",
       "      <td>Cyberpunk 2077 Review - The Best Unfinished Ga...</td>\n",
       "      <td>28:43</td>\n",
       "      <td>105676</td>\n",
       "    </tr>\n",
       "    <tr>\n",
       "      <th>1</th>\n",
       "      <td>https://www.youtube.com/watch?v=QcH9c_rJItE</td>\n",
       "      <td>Cyberpunk 2077 - Easy Allies Review</td>\n",
       "      <td>13:34</td>\n",
       "      <td>22384</td>\n",
       "    </tr>\n",
       "    <tr>\n",
       "      <th>2</th>\n",
       "      <td>https://www.youtube.com/watch?v=QfpoTjUz1BY</td>\n",
       "      <td>Cyberpunk 2077 for Xbox One and PlayStation 4 ...</td>\n",
       "      <td>3:49</td>\n",
       "      <td>922825</td>\n",
       "    </tr>\n",
       "    <tr>\n",
       "      <th>3</th>\n",
       "      <td>https://www.youtube.com/watch?v=FPzMhniHikQ</td>\n",
       "      <td>A Brutally Honest Review Of Cyberpunk 2077</td>\n",
       "      <td>10:36</td>\n",
       "      <td>18784</td>\n",
       "    </tr>\n",
       "    <tr>\n",
       "      <th>4</th>\n",
       "      <td>https://www.youtube.com/watch?v=ldhiHfg-_DA</td>\n",
       "      <td>Cyberpunk 2077 review</td>\n",
       "      <td>14:40</td>\n",
       "      <td>52561</td>\n",
       "    </tr>\n",
       "  </tbody>\n",
       "</table>\n",
       "</div>"
      ],
      "text/plain": [
       "                                           url  \\\n",
       "0  https://www.youtube.com/watch?v=0UiXx-_fL5U   \n",
       "1  https://www.youtube.com/watch?v=QcH9c_rJItE   \n",
       "2  https://www.youtube.com/watch?v=QfpoTjUz1BY   \n",
       "3  https://www.youtube.com/watch?v=FPzMhniHikQ   \n",
       "4  https://www.youtube.com/watch?v=ldhiHfg-_DA   \n",
       "\n",
       "                                         description duration   views  \n",
       "0  Cyberpunk 2077 Review - The Best Unfinished Ga...    28:43  105676  \n",
       "1                Cyberpunk 2077 - Easy Allies Review    13:34   22384  \n",
       "2  Cyberpunk 2077 for Xbox One and PlayStation 4 ...     3:49  922825  \n",
       "3         A Brutally Honest Review Of Cyberpunk 2077    10:36   18784  \n",
       "4                              Cyberpunk 2077 review    14:40   52561  "
      ]
     },
     "execution_count": 7,
     "metadata": {},
     "output_type": "execute_result"
    }
   ],
   "source": [
    "df.head()"
   ]
  },
  {
   "cell_type": "code",
   "execution_count": 8,
   "metadata": {},
   "outputs": [],
   "source": [
    "df.to_csv(\"~/Desktop/Projects/Text mining/Audio analysis/urls.csv\", index=False)"
   ]
  },
  {
   "cell_type": "markdown",
   "metadata": {},
   "source": [
    "# 2) Downloading the videos from the urls:"
   ]
  },
  {
   "cell_type": "code",
   "execution_count": 9,
   "metadata": {},
   "outputs": [
    {
     "data": {
      "text/plain": [
       "192"
      ]
     },
     "execution_count": 9,
     "metadata": {},
     "output_type": "execute_result"
    }
   ],
   "source": [
    "urls= pd.read_csv(\"~/Desktop/Projects/Text mining/Audio analysis/urls.csv\")\n",
    "len(urls)"
   ]
  },
  {
   "cell_type": "markdown",
   "metadata": {},
   "source": [
    "### The videos are going to be downloaded with `mp4 format`"
   ]
  },
  {
   "cell_type": "code",
   "execution_count": 10,
   "metadata": {},
   "outputs": [],
   "source": [
    "urls_list = urls.url.to_list()\n",
    "folder= \"/Users/Lajobu/Desktop/Projects/Text mining/Audio analysis/Audios\"\n",
    "remove= []\n",
    "download= []\n",
    "for i in urls_list:\n",
    "    try:\n",
    "        yt= YouTube(i)\n",
    "        t= yt.streams.filter(only_audio=True).all()\n",
    "        t[0].download(folder, filename= str(i))\n",
    "        download.append(i)\n",
    "    except:\n",
    "        remove.append(i)"
   ]
  },
  {
   "cell_type": "markdown",
   "metadata": {},
   "source": [
    "### There was `one error` when downloading the videos, hence this should be removed from the list of videos"
   ]
  },
  {
   "cell_type": "code",
   "execution_count": 11,
   "metadata": {},
   "outputs": [
    {
     "data": {
      "text/plain": [
       "['https://www.youtube.com/watch?v=5YD1gJ4dUgo']"
      ]
     },
     "execution_count": 11,
     "metadata": {},
     "output_type": "execute_result"
    }
   ],
   "source": [
    "remove"
   ]
  },
  {
   "cell_type": "code",
   "execution_count": 12,
   "metadata": {},
   "outputs": [],
   "source": [
    "urls= urls[~urls.url.isin(remove)]"
   ]
  },
  {
   "cell_type": "markdown",
   "metadata": {},
   "source": [
    "# 3) Extracting the audio of the video:"
   ]
  },
  {
   "cell_type": "markdown",
   "metadata": {},
   "source": [
    "### The audio of the video is going to be transformed to `wav format`"
   ]
  },
  {
   "cell_type": "code",
   "execution_count": 14,
   "metadata": {},
   "outputs": [
    {
     "name": "stderr",
     "output_type": "stream",
     "text": [
      "chunk:   4%|▍         | 403/9741 [00:00<00:02, 4029.36it/s, now=None]"
     ]
    },
    {
     "name": "stdout",
     "output_type": "stream",
     "text": [
      "MoviePy - Writing audio in /Users/Lajobu/Desktop/Projects/Text mining/Audio analysis/Audios/httpswwwyoutubecomwatchv=08mTqdwiEZ8.wav\n"
     ]
    },
    {
     "name": "stderr",
     "output_type": "stream",
     "text": [
      "chunk:   3%|▎         | 357/13642 [00:00<00:03, 3442.49it/s, now=None]"
     ]
    },
    {
     "name": "stdout",
     "output_type": "stream",
     "text": [
      "MoviePy - Done.\n",
      "MoviePy - Writing audio in /Users/Lajobu/Desktop/Projects/Text mining/Audio analysis/Audios/httpswwwyoutubecomwatchv=QNP0alPlhaU.wav\n"
     ]
    },
    {
     "name": "stderr",
     "output_type": "stream",
     "text": [
      "chunk:   2%|▏         | 384/19395 [00:00<00:04, 3835.36it/s, now=None]  "
     ]
    },
    {
     "name": "stdout",
     "output_type": "stream",
     "text": [
      "MoviePy - Done.\n",
      "MoviePy - Writing audio in /Users/Lajobu/Desktop/Projects/Text mining/Audio analysis/Audios/httpswwwyoutubecomwatchv=ldhiHfg-_DA.wav\n"
     ]
    },
    {
     "name": "stderr",
     "output_type": "stream",
     "text": [
      "chunk:   3%|▎         | 394/12837 [00:00<00:03, 3937.32it/s, now=None]  "
     ]
    },
    {
     "name": "stdout",
     "output_type": "stream",
     "text": [
      "MoviePy - Done.\n",
      "MoviePy - Writing audio in /Users/Lajobu/Desktop/Projects/Text mining/Audio analysis/Audios/httpswwwyoutubecomwatchv=EEW8mE5KDi0.wav\n"
     ]
    },
    {
     "name": "stderr",
     "output_type": "stream",
     "text": [
      "chunk:   2%|▏         | 408/24727 [00:00<00:06, 3921.04it/s, now=None]  "
     ]
    },
    {
     "name": "stdout",
     "output_type": "stream",
     "text": [
      "MoviePy - Done.\n",
      "MoviePy - Writing audio in /Users/Lajobu/Desktop/Projects/Text mining/Audio analysis/Audios/httpswwwyoutubecomwatchv=cxkBI2B2LnU.wav\n"
     ]
    },
    {
     "name": "stderr",
     "output_type": "stream",
     "text": [
      "chunk:   2%|▏         | 408/24103 [00:00<00:06, 3915.09it/s, now=None]  "
     ]
    },
    {
     "name": "stdout",
     "output_type": "stream",
     "text": [
      "MoviePy - Done.\n",
      "MoviePy - Writing audio in /Users/Lajobu/Desktop/Projects/Text mining/Audio analysis/Audios/httpswwwyoutubecomwatchv=aGgkF7fh4MA.wav\n"
     ]
    },
    {
     "name": "stderr",
     "output_type": "stream",
     "text": [
      "chunk:   3%|▎         | 394/12003 [00:00<00:02, 3935.79it/s, now=None]  "
     ]
    },
    {
     "name": "stdout",
     "output_type": "stream",
     "text": [
      "MoviePy - Done.\n",
      "MoviePy - Writing audio in /Users/Lajobu/Desktop/Projects/Text mining/Audio analysis/Audios/httpswwwyoutubecomwatchv=ftNl_7yo-UQ.wav\n"
     ]
    },
    {
     "name": "stderr",
     "output_type": "stream",
     "text": [
      "chunk:   2%|▏         | 391/23470 [00:00<00:05, 3905.04it/s, now=None]  "
     ]
    },
    {
     "name": "stdout",
     "output_type": "stream",
     "text": [
      "MoviePy - Done.\n",
      "MoviePy - Writing audio in /Users/Lajobu/Desktop/Projects/Text mining/Audio analysis/Audios/httpswwwyoutubecomwatchv=22v3O4-H2qE.wav\n"
     ]
    },
    {
     "name": "stderr",
     "output_type": "stream",
     "text": [
      "chunk:   4%|▍         | 397/9621 [00:00<00:02, 3968.81it/s, now=None]   "
     ]
    },
    {
     "name": "stdout",
     "output_type": "stream",
     "text": [
      "MoviePy - Done.\n",
      "MoviePy - Writing audio in /Users/Lajobu/Desktop/Projects/Text mining/Audio analysis/Audios/httpswwwyoutubecomwatchv=Zd6VHgbMUCk.wav\n"
     ]
    },
    {
     "name": "stderr",
     "output_type": "stream",
     "text": [
      "chunk:   2%|▏         | 394/17039 [00:00<00:04, 3934.97it/s, now=None]"
     ]
    },
    {
     "name": "stdout",
     "output_type": "stream",
     "text": [
      "MoviePy - Done.\n",
      "MoviePy - Writing audio in /Users/Lajobu/Desktop/Projects/Text mining/Audio analysis/Audios/httpswwwyoutubecomwatchv=E42D2XF2oAs.wav\n"
     ]
    },
    {
     "name": "stderr",
     "output_type": "stream",
     "text": [
      "chunk:   3%|▎         | 401/14110 [00:00<00:03, 4002.63it/s, now=None]  "
     ]
    },
    {
     "name": "stdout",
     "output_type": "stream",
     "text": [
      "MoviePy - Done.\n",
      "MoviePy - Writing audio in /Users/Lajobu/Desktop/Projects/Text mining/Audio analysis/Audios/httpswwwyoutubecomwatchv=RfVLKDBH0m8.wav\n"
     ]
    },
    {
     "name": "stderr",
     "output_type": "stream",
     "text": [
      "chunk:   8%|▊         | 394/4958 [00:00<00:01, 3935.79it/s, now=None]   "
     ]
    },
    {
     "name": "stdout",
     "output_type": "stream",
     "text": [
      "MoviePy - Done.\n",
      "MoviePy - Writing audio in /Users/Lajobu/Desktop/Projects/Text mining/Audio analysis/Audios/httpswwwyoutubecomwatchv=cdiifeXHhC0.wav\n"
     ]
    },
    {
     "name": "stderr",
     "output_type": "stream",
     "text": [
      "chunk:   1%|▏         | 386/25979 [00:00<00:06, 3854.88it/s, now=None]"
     ]
    },
    {
     "name": "stdout",
     "output_type": "stream",
     "text": [
      "MoviePy - Done.\n",
      "MoviePy - Writing audio in /Users/Lajobu/Desktop/Projects/Text mining/Audio analysis/Audios/httpswwwyoutubecomwatchv=TVtD4UmtIdQ.wav\n"
     ]
    },
    {
     "name": "stderr",
     "output_type": "stream",
     "text": [
      "chunk:   7%|▋         | 408/5735 [00:00<00:01, 3857.46it/s, now=None]   "
     ]
    },
    {
     "name": "stdout",
     "output_type": "stream",
     "text": [
      "MoviePy - Done.\n",
      "MoviePy - Writing audio in /Users/Lajobu/Desktop/Projects/Text mining/Audio analysis/Audios/httpswwwyoutubecomwatchv=uWPNGg5Qj5A.wav\n"
     ]
    },
    {
     "name": "stderr",
     "output_type": "stream",
     "text": [
      "chunk:   5%|▌         | 408/7747 [00:00<00:01, 3960.39it/s, now=None] "
     ]
    },
    {
     "name": "stdout",
     "output_type": "stream",
     "text": [
      "MoviePy - Done.\n",
      "MoviePy - Writing audio in /Users/Lajobu/Desktop/Projects/Text mining/Audio analysis/Audios/httpswwwyoutubecomwatchv=VamHL2_DLko.wav\n"
     ]
    },
    {
     "name": "stderr",
     "output_type": "stream",
     "text": [
      "chunk:   0%|          | 0/36420 [00:00<?, ?it/s, now=None]            "
     ]
    },
    {
     "name": "stdout",
     "output_type": "stream",
     "text": [
      "MoviePy - Done.\n",
      "MoviePy - Writing audio in /Users/Lajobu/Desktop/Projects/Text mining/Audio analysis/Audios/httpswwwyoutubecomwatchv=1WJff6p6mlM.wav\n"
     ]
    },
    {
     "name": "stderr",
     "output_type": "stream",
     "text": [
      "chunk:   3%|▎         | 408/12818 [00:00<00:03, 3965.90it/s, now=None]  "
     ]
    },
    {
     "name": "stdout",
     "output_type": "stream",
     "text": [
      "MoviePy - Done.\n",
      "MoviePy - Writing audio in /Users/Lajobu/Desktop/Projects/Text mining/Audio analysis/Audios/httpswwwyoutubecomwatchv=eGU6wvu3yuc.wav\n"
     ]
    },
    {
     "name": "stderr",
     "output_type": "stream",
     "text": [
      "chunk:   1%|          | 403/58325 [00:00<00:14, 3940.58it/s, now=None]  "
     ]
    },
    {
     "name": "stdout",
     "output_type": "stream",
     "text": [
      "MoviePy - Done.\n",
      "MoviePy - Writing audio in /Users/Lajobu/Desktop/Projects/Text mining/Audio analysis/Audios/httpswwwyoutubecomwatchv=8JxgCH_Ctu4.wav\n"
     ]
    },
    {
     "name": "stderr",
     "output_type": "stream",
     "text": [
      "chunk:   2%|▏         | 408/17808 [00:00<00:04, 3924.50it/s, now=None]  "
     ]
    },
    {
     "name": "stdout",
     "output_type": "stream",
     "text": [
      "MoviePy - Done.\n",
      "MoviePy - Writing audio in /Users/Lajobu/Desktop/Projects/Text mining/Audio analysis/Audios/httpswwwyoutubecomwatchv=ffo-kWBmlaU.wav\n"
     ]
    },
    {
     "name": "stderr",
     "output_type": "stream",
     "text": [
      "chunk:   3%|▎         | 408/11909 [00:00<00:02, 4019.35it/s, now=None]  "
     ]
    },
    {
     "name": "stdout",
     "output_type": "stream",
     "text": [
      "MoviePy - Done.\n",
      "MoviePy - Writing audio in /Users/Lajobu/Desktop/Projects/Text mining/Audio analysis/Audios/httpswwwyoutubecomwatchv=z1rUP17fayA.wav\n"
     ]
    },
    {
     "name": "stderr",
     "output_type": "stream",
     "text": [
      "chunk:   6%|▌         | 408/6919 [00:00<00:01, 3980.26it/s, now=None]   "
     ]
    },
    {
     "name": "stdout",
     "output_type": "stream",
     "text": [
      "MoviePy - Done.\n",
      "MoviePy - Writing audio in /Users/Lajobu/Desktop/Projects/Text mining/Audio analysis/Audios/httpswwwyoutubecomwatchv=HsysPtp-jhs.wav\n"
     ]
    },
    {
     "name": "stderr",
     "output_type": "stream",
     "text": [
      "chunk:   2%|▏         | 405/23048 [00:00<00:05, 3921.01it/s, now=None]"
     ]
    },
    {
     "name": "stdout",
     "output_type": "stream",
     "text": [
      "MoviePy - Done.\n",
      "MoviePy - Writing audio in /Users/Lajobu/Desktop/Projects/Text mining/Audio analysis/Audios/httpswwwyoutubecomwatchv=dGsDj4T30AM.wav\n"
     ]
    },
    {
     "name": "stderr",
     "output_type": "stream",
     "text": [
      "chunk:   1%|▏         | 407/30800 [00:00<00:07, 4059.16it/s, now=None]  "
     ]
    },
    {
     "name": "stdout",
     "output_type": "stream",
     "text": [
      "MoviePy - Done.\n",
      "MoviePy - Writing audio in /Users/Lajobu/Desktop/Projects/Text mining/Audio analysis/Audios/httpswwwyoutubecomwatchv=CeNA4SKoftY.wav\n"
     ]
    },
    {
     "name": "stderr",
     "output_type": "stream",
     "text": [
      "chunk:   3%|▎         | 408/13447 [00:00<00:03, 4018.67it/s, now=None]  "
     ]
    },
    {
     "name": "stdout",
     "output_type": "stream",
     "text": [
      "MoviePy - Done.\n",
      "MoviePy - Writing audio in /Users/Lajobu/Desktop/Projects/Text mining/Audio analysis/Audios/httpswwwyoutubecomwatchv=JuUjXFyWLuk.wav\n"
     ]
    },
    {
     "name": "stderr",
     "output_type": "stream",
     "text": [
      "chunk:   1%|          | 409/57310 [00:00<00:13, 4088.80it/s, now=None]  "
     ]
    },
    {
     "name": "stdout",
     "output_type": "stream",
     "text": [
      "MoviePy - Done.\n",
      "MoviePy - Writing audio in /Users/Lajobu/Desktop/Projects/Text mining/Audio analysis/Audios/httpswwwyoutubecomwatchv=EGris_KIQl8.wav\n"
     ]
    },
    {
     "name": "stderr",
     "output_type": "stream",
     "text": [
      "chunk:   0%|          | 0/13894 [00:00<?, ?it/s, now=None]              "
     ]
    },
    {
     "name": "stdout",
     "output_type": "stream",
     "text": [
      "MoviePy - Done.\n",
      "MoviePy - Writing audio in /Users/Lajobu/Desktop/Projects/Text mining/Audio analysis/Audios/httpswwwyoutubecomwatchv=hkJFAkBgFHU.wav\n"
     ]
    },
    {
     "name": "stderr",
     "output_type": "stream",
     "text": [
      "chunk:   3%|▎         | 408/15851 [00:00<00:03, 3939.75it/s, now=None]  "
     ]
    },
    {
     "name": "stdout",
     "output_type": "stream",
     "text": [
      "MoviePy - Done.\n",
      "MoviePy - Writing audio in /Users/Lajobu/Desktop/Projects/Text mining/Audio analysis/Audios/httpswwwyoutubecomwatchv=5GldT8OIH3k.wav\n"
     ]
    },
    {
     "name": "stderr",
     "output_type": "stream",
     "text": [
      "chunk:   1%|▏         | 382/28094 [00:00<00:07, 3816.38it/s, now=None]  "
     ]
    },
    {
     "name": "stdout",
     "output_type": "stream",
     "text": [
      "MoviePy - Done.\n",
      "MoviePy - Writing audio in /Users/Lajobu/Desktop/Projects/Text mining/Audio analysis/Audios/httpswwwyoutubecomwatchv=jCAhgCp-z2E.wav\n"
     ]
    },
    {
     "name": "stderr",
     "output_type": "stream",
     "text": [
      "chunk:   2%|▏         | 406/17414 [00:00<00:04, 4056.88it/s, now=None]  "
     ]
    },
    {
     "name": "stdout",
     "output_type": "stream",
     "text": [
      "MoviePy - Done.\n",
      "MoviePy - Writing audio in /Users/Lajobu/Desktop/Projects/Text mining/Audio analysis/Audios/httpswwwyoutubecomwatchv=O62ujwBhhPo.wav\n"
     ]
    },
    {
     "name": "stderr",
     "output_type": "stream",
     "text": [
      "chunk:   3%|▎         | 373/13473 [00:00<00:03, 3722.78it/s, now=None]  "
     ]
    },
    {
     "name": "stdout",
     "output_type": "stream",
     "text": [
      "MoviePy - Done.\n",
      "MoviePy - Writing audio in /Users/Lajobu/Desktop/Projects/Text mining/Audio analysis/Audios/httpswwwyoutubecomwatchv=ykJOWmpzsW8.wav\n"
     ]
    },
    {
     "name": "stderr",
     "output_type": "stream",
     "text": [
      "chunk:   3%|▎         | 407/16056 [00:00<00:04, 3876.72it/s, now=None]  "
     ]
    },
    {
     "name": "stdout",
     "output_type": "stream",
     "text": [
      "MoviePy - Done.\n",
      "MoviePy - Writing audio in /Users/Lajobu/Desktop/Projects/Text mining/Audio analysis/Audios/httpswwwyoutubecomwatchv=b_pK7MezyQ8.wav\n"
     ]
    },
    {
     "name": "stderr",
     "output_type": "stream",
     "text": [
      "chunk:   4%|▍         | 378/8949 [00:00<00:02, 3776.38it/s, now=None]   "
     ]
    },
    {
     "name": "stdout",
     "output_type": "stream",
     "text": [
      "MoviePy - Done.\n",
      "MoviePy - Writing audio in /Users/Lajobu/Desktop/Projects/Text mining/Audio analysis/Audios/httpswwwyoutubecomwatchv=5JyERE0fhEI.wav\n"
     ]
    },
    {
     "name": "stderr",
     "output_type": "stream",
     "text": [
      "chunk:   1%|▏         | 408/31376 [00:00<00:07, 3946.94it/s, now=None]"
     ]
    },
    {
     "name": "stdout",
     "output_type": "stream",
     "text": [
      "MoviePy - Done.\n",
      "MoviePy - Writing audio in /Users/Lajobu/Desktop/Projects/Text mining/Audio analysis/Audios/httpswwwyoutubecomwatchv=pC25ambD8vs.wav\n"
     ]
    },
    {
     "name": "stderr",
     "output_type": "stream",
     "text": [
      "chunk:   2%|▏         | 391/19613 [00:00<00:04, 3908.28it/s, now=None]  "
     ]
    },
    {
     "name": "stdout",
     "output_type": "stream",
     "text": [
      "MoviePy - Done.\n",
      "MoviePy - Writing audio in /Users/Lajobu/Desktop/Projects/Text mining/Audio analysis/Audios/httpswwwyoutubecomwatchv=YIjCprBSn0A.wav\n"
     ]
    },
    {
     "name": "stderr",
     "output_type": "stream",
     "text": [
      "chunk:   2%|▏         | 406/26119 [00:00<00:06, 3907.75it/s, now=None]  "
     ]
    },
    {
     "name": "stdout",
     "output_type": "stream",
     "text": [
      "MoviePy - Done.\n",
      "MoviePy - Writing audio in /Users/Lajobu/Desktop/Projects/Text mining/Audio analysis/Audios/httpswwwyoutubecomwatchv=dbDRkaNO8dE.wav\n"
     ]
    },
    {
     "name": "stderr",
     "output_type": "stream",
     "text": [
      "chunk:  10%|█         | 404/3971 [00:00<00:00, 3903.90it/s, now=None]   "
     ]
    },
    {
     "name": "stdout",
     "output_type": "stream",
     "text": [
      "MoviePy - Done.\n",
      "MoviePy - Writing audio in /Users/Lajobu/Desktop/Projects/Text mining/Audio analysis/Audios/httpswwwyoutubecomwatchv=OEMXUM5ENQ0.wav\n"
     ]
    },
    {
     "name": "stderr",
     "output_type": "stream",
     "text": [
      "chunk:   4%|▍         | 408/10694 [00:00<00:02, 4030.67it/s, now=None]"
     ]
    },
    {
     "name": "stdout",
     "output_type": "stream",
     "text": [
      "MoviePy - Done.\n",
      "MoviePy - Writing audio in /Users/Lajobu/Desktop/Projects/Text mining/Audio analysis/Audios/httpswwwyoutubecomwatchv=JBPVZcMxb-8.wav\n"
     ]
    },
    {
     "name": "stderr",
     "output_type": "stream",
     "text": [
      "chunk:   3%|▎         | 408/16276 [00:00<00:03, 4008.40it/s, now=None]  "
     ]
    },
    {
     "name": "stdout",
     "output_type": "stream",
     "text": [
      "MoviePy - Done.\n",
      "MoviePy - Writing audio in /Users/Lajobu/Desktop/Projects/Text mining/Audio analysis/Audios/httpswwwyoutubecomwatchv=CYZImPZ4IZI.wav\n"
     ]
    },
    {
     "name": "stderr",
     "output_type": "stream",
     "text": [
      "chunk:   2%|▏         | 409/25199 [00:00<00:06, 4084.08it/s, now=None]  "
     ]
    },
    {
     "name": "stdout",
     "output_type": "stream",
     "text": [
      "MoviePy - Done.\n",
      "MoviePy - Writing audio in /Users/Lajobu/Desktop/Projects/Text mining/Audio analysis/Audios/httpswwwyoutubecomwatchv=xwTG_IN7AGs.wav\n"
     ]
    },
    {
     "name": "stderr",
     "output_type": "stream",
     "text": [
      "chunk:   2%|▏         | 408/23529 [00:00<00:05, 4016.02it/s, now=None]  "
     ]
    },
    {
     "name": "stdout",
     "output_type": "stream",
     "text": [
      "MoviePy - Done.\n",
      "MoviePy - Writing audio in /Users/Lajobu/Desktop/Projects/Text mining/Audio analysis/Audios/httpswwwyoutubecomwatchv=ef4IcOl__6Q.wav\n"
     ]
    },
    {
     "name": "stderr",
     "output_type": "stream",
     "text": [
      "chunk:   3%|▎         | 408/12570 [00:00<00:03, 3976.70it/s, now=None]  "
     ]
    },
    {
     "name": "stdout",
     "output_type": "stream",
     "text": [
      "MoviePy - Done.\n",
      "MoviePy - Writing audio in /Users/Lajobu/Desktop/Projects/Text mining/Audio analysis/Audios/httpswwwyoutubecomwatchv=l46E7Q3UKqI.wav\n"
     ]
    },
    {
     "name": "stderr",
     "output_type": "stream",
     "text": [
      "chunk:   4%|▎         | 401/11201 [00:00<00:02, 4007.43it/s, now=None]  "
     ]
    },
    {
     "name": "stdout",
     "output_type": "stream",
     "text": [
      "MoviePy - Done.\n",
      "MoviePy - Writing audio in /Users/Lajobu/Desktop/Projects/Text mining/Audio analysis/Audios/httpswwwyoutubecomwatchv=NzN4wkPjekE.wav\n"
     ]
    },
    {
     "name": "stderr",
     "output_type": "stream",
     "text": [
      "chunk:   1%|▏         | 403/28851 [00:00<00:07, 4025.82it/s, now=None]  "
     ]
    },
    {
     "name": "stdout",
     "output_type": "stream",
     "text": [
      "MoviePy - Done.\n",
      "MoviePy - Writing audio in /Users/Lajobu/Desktop/Projects/Text mining/Audio analysis/Audios/httpswwwyoutubecomwatchv=l0aZocGxy3I.wav\n"
     ]
    },
    {
     "name": "stderr",
     "output_type": "stream",
     "text": [
      "chunk:   2%|▏         | 403/16806 [00:00<00:04, 4028.76it/s, now=None]  "
     ]
    },
    {
     "name": "stdout",
     "output_type": "stream",
     "text": [
      "MoviePy - Done.\n",
      "MoviePy - Writing audio in /Users/Lajobu/Desktop/Projects/Text mining/Audio analysis/Audios/httpswwwyoutubecomwatchv=klUqCIljPnU.wav\n"
     ]
    },
    {
     "name": "stderr",
     "output_type": "stream",
     "text": [
      "chunk:   1%|▏         | 402/27864 [00:00<00:06, 4015.30it/s, now=None]  "
     ]
    },
    {
     "name": "stdout",
     "output_type": "stream",
     "text": [
      "MoviePy - Done.\n",
      "MoviePy - Writing audio in /Users/Lajobu/Desktop/Projects/Text mining/Audio analysis/Audios/httpswwwyoutubecomwatchv=KtMJ-xLS6LU.wav\n"
     ]
    },
    {
     "name": "stderr",
     "output_type": "stream",
     "text": [
      "chunk:   3%|▎         | 306/11204 [00:00<00:03, 3029.04it/s, now=None]  "
     ]
    },
    {
     "name": "stdout",
     "output_type": "stream",
     "text": [
      "MoviePy - Done.\n",
      "MoviePy - Writing audio in /Users/Lajobu/Desktop/Projects/Text mining/Audio analysis/Audios/httpswwwyoutubecomwatchv=hPENctyhzp4.wav\n"
     ]
    },
    {
     "name": "stderr",
     "output_type": "stream",
     "text": [
      "chunk:   3%|▎         | 398/12214 [00:00<00:02, 3979.69it/s, now=None]  "
     ]
    },
    {
     "name": "stdout",
     "output_type": "stream",
     "text": [
      "MoviePy - Done.\n",
      "MoviePy - Writing audio in /Users/Lajobu/Desktop/Projects/Text mining/Audio analysis/Audios/httpswwwyoutubecomwatchv=j0mg7GEIpio.wav\n"
     ]
    },
    {
     "name": "stderr",
     "output_type": "stream",
     "text": [
      "chunk:   4%|▍         | 408/9264 [00:00<00:02, 3937.69it/s, now=None]   "
     ]
    },
    {
     "name": "stdout",
     "output_type": "stream",
     "text": [
      "MoviePy - Done.\n",
      "MoviePy - Writing audio in /Users/Lajobu/Desktop/Projects/Text mining/Audio analysis/Audios/httpswwwyoutubecomwatchv=TU1fgWlanGE.wav\n"
     ]
    },
    {
     "name": "stderr",
     "output_type": "stream",
     "text": [
      "chunk:   1%|▏         | 399/26829 [00:00<00:06, 3989.16it/s, now=None]"
     ]
    },
    {
     "name": "stdout",
     "output_type": "stream",
     "text": [
      "MoviePy - Done.\n",
      "MoviePy - Writing audio in /Users/Lajobu/Desktop/Projects/Text mining/Audio analysis/Audios/httpswwwyoutubecomwatchv=Z7feSqi701s.wav\n"
     ]
    },
    {
     "name": "stderr",
     "output_type": "stream",
     "text": [
      "chunk:   3%|▎         | 408/13393 [00:00<00:03, 3967.69it/s, now=None]  "
     ]
    },
    {
     "name": "stdout",
     "output_type": "stream",
     "text": [
      "MoviePy - Done.\n",
      "MoviePy - Writing audio in /Users/Lajobu/Desktop/Projects/Text mining/Audio analysis/Audios/httpswwwyoutubecomwatchv=5NPpx9k25VA.wav\n"
     ]
    },
    {
     "name": "stderr",
     "output_type": "stream",
     "text": [
      "chunk:  10%|█         | 395/3777 [00:00<00:00, 3949.81it/s, now=None]   "
     ]
    },
    {
     "name": "stdout",
     "output_type": "stream",
     "text": [
      "MoviePy - Done.\n",
      "MoviePy - Writing audio in /Users/Lajobu/Desktop/Projects/Text mining/Audio analysis/Audios/httpswwwyoutubecomwatchv=kkX25-jmbnc.wav\n"
     ]
    },
    {
     "name": "stderr",
     "output_type": "stream",
     "text": [
      "chunk:   1%|          | 406/35883 [00:00<00:08, 4034.46it/s, now=None]"
     ]
    },
    {
     "name": "stdout",
     "output_type": "stream",
     "text": [
      "MoviePy - Done.\n",
      "MoviePy - Writing audio in /Users/Lajobu/Desktop/Projects/Text mining/Audio analysis/Audios/httpswwwyoutubecomwatchv=rhNuXOPU4-g.wav\n"
     ]
    },
    {
     "name": "stderr",
     "output_type": "stream",
     "text": [
      "chunk:   1%|          | 404/38309 [00:00<00:09, 3942.38it/s, now=None]  "
     ]
    },
    {
     "name": "stdout",
     "output_type": "stream",
     "text": [
      "MoviePy - Done.\n",
      "MoviePy - Writing audio in /Users/Lajobu/Desktop/Projects/Text mining/Audio analysis/Audios/httpswwwyoutubecomwatchv=q8JV6W6tsSU.wav\n"
     ]
    },
    {
     "name": "stderr",
     "output_type": "stream",
     "text": [
      "chunk:   3%|▎         | 391/12024 [00:00<00:02, 3908.98it/s, now=None]  "
     ]
    },
    {
     "name": "stdout",
     "output_type": "stream",
     "text": [
      "MoviePy - Done.\n",
      "MoviePy - Writing audio in /Users/Lajobu/Desktop/Projects/Text mining/Audio analysis/Audios/httpswwwyoutubecomwatchv=0D6d_prCJ5U.wav\n"
     ]
    },
    {
     "name": "stderr",
     "output_type": "stream",
     "text": [
      "chunk:   9%|▉         | 408/4454 [00:00<00:01, 3996.94it/s, now=None]   "
     ]
    },
    {
     "name": "stdout",
     "output_type": "stream",
     "text": [
      "MoviePy - Done.\n",
      "MoviePy - Writing audio in /Users/Lajobu/Desktop/Projects/Text mining/Audio analysis/Audios/httpswwwyoutubecomwatchv=23QHQi5T3ss.wav\n"
     ]
    },
    {
     "name": "stderr",
     "output_type": "stream",
     "text": [
      "chunk:   1%|          | 405/44880 [00:00<00:11, 3934.56it/s, now=None]"
     ]
    },
    {
     "name": "stdout",
     "output_type": "stream",
     "text": [
      "MoviePy - Done.\n",
      "MoviePy - Writing audio in /Users/Lajobu/Desktop/Projects/Text mining/Audio analysis/Audios/httpswwwyoutubecomwatchv=TVrTvo693QI.wav\n"
     ]
    },
    {
     "name": "stderr",
     "output_type": "stream",
     "text": [
      "chunk:   4%|▍         | 408/10880 [00:00<00:02, 3896.25it/s, now=None]  "
     ]
    },
    {
     "name": "stdout",
     "output_type": "stream",
     "text": [
      "MoviePy - Done.\n",
      "MoviePy - Writing audio in /Users/Lajobu/Desktop/Projects/Text mining/Audio analysis/Audios/httpswwwyoutubecomwatchv=Zo9u8GzjjB0.wav\n"
     ]
    },
    {
     "name": "stderr",
     "output_type": "stream",
     "text": [
      "chunk:   1%|▏         | 394/31212 [00:00<00:07, 3936.68it/s, now=None]  "
     ]
    },
    {
     "name": "stdout",
     "output_type": "stream",
     "text": [
      "MoviePy - Done.\n",
      "MoviePy - Writing audio in /Users/Lajobu/Desktop/Projects/Text mining/Audio analysis/Audios/httpswwwyoutubecomwatchv=-qa5W16YPks.wav\n"
     ]
    },
    {
     "name": "stderr",
     "output_type": "stream",
     "text": [
      "chunk:   3%|▎         | 357/12627 [00:00<00:03, 3515.34it/s, now=None]  "
     ]
    },
    {
     "name": "stdout",
     "output_type": "stream",
     "text": [
      "MoviePy - Done.\n",
      "MoviePy - Writing audio in /Users/Lajobu/Desktop/Projects/Text mining/Audio analysis/Audios/httpswwwyoutubecomwatchv=fmQECaD5lOI.wav\n"
     ]
    },
    {
     "name": "stderr",
     "output_type": "stream",
     "text": [
      "chunk:   3%|▎         | 403/12137 [00:00<00:02, 3918.97it/s, now=None]  "
     ]
    },
    {
     "name": "stdout",
     "output_type": "stream",
     "text": [
      "MoviePy - Done.\n",
      "MoviePy - Writing audio in /Users/Lajobu/Desktop/Projects/Text mining/Audio analysis/Audios/httpswwwyoutubecomwatchv=xQwZg1CmxSk.wav\n"
     ]
    },
    {
     "name": "stderr",
     "output_type": "stream",
     "text": [
      "chunk:   2%|▏         | 408/20323 [00:00<00:05, 3857.82it/s, now=None]  "
     ]
    },
    {
     "name": "stdout",
     "output_type": "stream",
     "text": [
      "MoviePy - Done.\n",
      "MoviePy - Writing audio in /Users/Lajobu/Desktop/Projects/Text mining/Audio analysis/Audios/httpswwwyoutubecomwatchv=tnacM1OKIKE.wav\n"
     ]
    },
    {
     "name": "stderr",
     "output_type": "stream",
     "text": [
      "chunk:   0%|          | 388/81840 [00:00<00:21, 3876.17it/s, now=None]  "
     ]
    },
    {
     "name": "stdout",
     "output_type": "stream",
     "text": [
      "MoviePy - Done.\n",
      "MoviePy - Writing audio in /Users/Lajobu/Desktop/Projects/Text mining/Audio analysis/Audios/httpswwwyoutubecomwatchv=35egM9GSxpM.wav\n"
     ]
    },
    {
     "name": "stderr",
     "output_type": "stream",
     "text": [
      "chunk:   0%|          | 0/14405 [00:00<?, ?it/s, now=None]              "
     ]
    },
    {
     "name": "stdout",
     "output_type": "stream",
     "text": [
      "MoviePy - Done.\n",
      "MoviePy - Writing audio in /Users/Lajobu/Desktop/Projects/Text mining/Audio analysis/Audios/httpswwwyoutubecomwatchv=eDE0BqQKmeY.wav\n"
     ]
    },
    {
     "name": "stderr",
     "output_type": "stream",
     "text": [
      "chunk:   3%|▎         | 408/15881 [00:00<00:03, 3869.50it/s, now=None]  "
     ]
    },
    {
     "name": "stdout",
     "output_type": "stream",
     "text": [
      "MoviePy - Done.\n",
      "MoviePy - Writing audio in /Users/Lajobu/Desktop/Projects/Text mining/Audio analysis/Audios/httpswwwyoutubecomwatchv=Z4Uz1X6raSA.wav\n"
     ]
    },
    {
     "name": "stderr",
     "output_type": "stream",
     "text": [
      "chunk:   2%|▏         | 386/15998 [00:00<00:04, 3859.11it/s, now=None]  "
     ]
    },
    {
     "name": "stdout",
     "output_type": "stream",
     "text": [
      "MoviePy - Done.\n",
      "MoviePy - Writing audio in /Users/Lajobu/Desktop/Projects/Text mining/Audio analysis/Audios/httpswwwyoutubecomwatchv=FzFJ4qHW8Fk.wav\n"
     ]
    },
    {
     "name": "stderr",
     "output_type": "stream",
     "text": [
      "chunk:   3%|▎         | 408/14430 [00:00<00:03, 3880.17it/s, now=None]  "
     ]
    },
    {
     "name": "stdout",
     "output_type": "stream",
     "text": [
      "MoviePy - Done.\n",
      "MoviePy - Writing audio in /Users/Lajobu/Desktop/Projects/Text mining/Audio analysis/Audios/httpswwwyoutubecomwatchv=TOyODsyPbG0.wav\n"
     ]
    },
    {
     "name": "stderr",
     "output_type": "stream",
     "text": [
      "chunk:   2%|▏         | 408/18142 [00:00<00:04, 3791.29it/s, now=None]  "
     ]
    },
    {
     "name": "stdout",
     "output_type": "stream",
     "text": [
      "MoviePy - Done.\n",
      "MoviePy - Writing audio in /Users/Lajobu/Desktop/Projects/Text mining/Audio analysis/Audios/httpswwwyoutubecomwatchv=s8ENtKhY_2k.wav\n"
     ]
    },
    {
     "name": "stderr",
     "output_type": "stream",
     "text": [
      "chunk:   2%|▏         | 408/19080 [00:00<00:04, 4052.29it/s, now=None]  "
     ]
    },
    {
     "name": "stdout",
     "output_type": "stream",
     "text": [
      "MoviePy - Done.\n",
      "MoviePy - Writing audio in /Users/Lajobu/Desktop/Projects/Text mining/Audio analysis/Audios/httpswwwyoutubecomwatchv=llmMN-nIjLA.wav\n"
     ]
    },
    {
     "name": "stderr",
     "output_type": "stream",
     "text": [
      "chunk:   4%|▎         | 408/11175 [00:00<00:02, 3827.67it/s, now=None]  "
     ]
    },
    {
     "name": "stdout",
     "output_type": "stream",
     "text": [
      "MoviePy - Done.\n",
      "MoviePy - Writing audio in /Users/Lajobu/Desktop/Projects/Text mining/Audio analysis/Audios/httpswwwyoutubecomwatchv=tyQRxJrJFlQ.wav\n"
     ]
    },
    {
     "name": "stderr",
     "output_type": "stream",
     "text": [
      "chunk:   7%|▋         | 408/5682 [00:00<00:01, 3964.21it/s, now=None]   "
     ]
    },
    {
     "name": "stdout",
     "output_type": "stream",
     "text": [
      "MoviePy - Done.\n",
      "MoviePy - Writing audio in /Users/Lajobu/Desktop/Projects/Text mining/Audio analysis/Audios/httpswwwyoutubecomwatchv=CKDsWBFfP9E.wav\n"
     ]
    },
    {
     "name": "stderr",
     "output_type": "stream",
     "text": [
      "chunk:   2%|▏         | 408/17228 [00:00<00:04, 4010.70it/s, now=None]"
     ]
    },
    {
     "name": "stdout",
     "output_type": "stream",
     "text": [
      "MoviePy - Done.\n",
      "MoviePy - Writing audio in /Users/Lajobu/Desktop/Projects/Text mining/Audio analysis/Audios/httpswwwyoutubecomwatchv=24GPnw9w2Yk.wav\n"
     ]
    },
    {
     "name": "stderr",
     "output_type": "stream",
     "text": [
      "chunk:  16%|█▋        | 408/2493 [00:00<00:00, 3995.61it/s, now=None]   "
     ]
    },
    {
     "name": "stdout",
     "output_type": "stream",
     "text": [
      "MoviePy - Done.\n",
      "MoviePy - Writing audio in /Users/Lajobu/Desktop/Projects/Text mining/Audio analysis/Audios/httpswwwyoutubecomwatchv=CqrEnrCt0mQ.wav\n"
     ]
    },
    {
     "name": "stderr",
     "output_type": "stream",
     "text": [
      "chunk:   3%|▎         | 391/15490 [00:00<00:03, 3906.68it/s, now=None]"
     ]
    },
    {
     "name": "stdout",
     "output_type": "stream",
     "text": [
      "MoviePy - Done.\n",
      "MoviePy - Writing audio in /Users/Lajobu/Desktop/Projects/Text mining/Audio analysis/Audios/httpswwwyoutubecomwatchv=9vhZqQKLeHY.wav\n"
     ]
    },
    {
     "name": "stderr",
     "output_type": "stream",
     "text": [
      "chunk:   4%|▍         | 405/10794 [00:00<00:02, 3977.89it/s, now=None]  "
     ]
    },
    {
     "name": "stdout",
     "output_type": "stream",
     "text": [
      "MoviePy - Done.\n",
      "MoviePy - Writing audio in /Users/Lajobu/Desktop/Projects/Text mining/Audio analysis/Audios/httpswwwyoutubecomwatchv=OIKrSyZmmlY.wav\n"
     ]
    },
    {
     "name": "stderr",
     "output_type": "stream",
     "text": [
      "chunk:   1%|          | 402/36777 [00:00<00:09, 3909.48it/s, now=None]  "
     ]
    },
    {
     "name": "stdout",
     "output_type": "stream",
     "text": [
      "MoviePy - Done.\n",
      "MoviePy - Writing audio in /Users/Lajobu/Desktop/Projects/Text mining/Audio analysis/Audios/httpswwwyoutubecomwatchv=Z5cmjXF3fXE.wav\n"
     ]
    },
    {
     "name": "stderr",
     "output_type": "stream",
     "text": [
      "chunk:   0%|          | 403/82247 [00:00<00:20, 3943.28it/s, now=None]  "
     ]
    },
    {
     "name": "stdout",
     "output_type": "stream",
     "text": [
      "MoviePy - Done.\n",
      "MoviePy - Writing audio in /Users/Lajobu/Desktop/Projects/Text mining/Audio analysis/Audios/httpswwwyoutubecomwatchv=R496BboUI7k.wav\n"
     ]
    },
    {
     "name": "stderr",
     "output_type": "stream",
     "text": [
      "chunk:   0%|          | 0/45384 [00:00<?, ?it/s, now=None]              "
     ]
    },
    {
     "name": "stdout",
     "output_type": "stream",
     "text": [
      "MoviePy - Done.\n",
      "MoviePy - Writing audio in /Users/Lajobu/Desktop/Projects/Text mining/Audio analysis/Audios/httpswwwyoutubecomwatchv=kK45BxjSLCs.wav\n"
     ]
    },
    {
     "name": "stderr",
     "output_type": "stream",
     "text": [
      "chunk:   3%|▎         | 395/15438 [00:00<00:03, 3945.54it/s, now=None]  "
     ]
    },
    {
     "name": "stdout",
     "output_type": "stream",
     "text": [
      "MoviePy - Done.\n",
      "MoviePy - Writing audio in /Users/Lajobu/Desktop/Projects/Text mining/Audio analysis/Audios/httpswwwyoutubecomwatchv=PPelllqqVZ8.wav\n"
     ]
    },
    {
     "name": "stderr",
     "output_type": "stream",
     "text": [
      "chunk:   2%|▏         | 391/18118 [00:00<00:04, 3905.69it/s, now=None]  "
     ]
    },
    {
     "name": "stdout",
     "output_type": "stream",
     "text": [
      "MoviePy - Done.\n",
      "MoviePy - Writing audio in /Users/Lajobu/Desktop/Projects/Text mining/Audio analysis/Audios/httpswwwyoutubecomwatchv=TrAyDHHIoGA.wav\n"
     ]
    },
    {
     "name": "stderr",
     "output_type": "stream",
     "text": [
      "chunk:  10%|▉         | 408/4274 [00:00<00:01, 3857.03it/s, now=None]   "
     ]
    },
    {
     "name": "stdout",
     "output_type": "stream",
     "text": [
      "MoviePy - Done.\n",
      "MoviePy - Writing audio in /Users/Lajobu/Desktop/Projects/Text mining/Audio analysis/Audios/httpswwwyoutubecomwatchv=BwDMKyUmcLs.wav\n"
     ]
    },
    {
     "name": "stderr",
     "output_type": "stream",
     "text": [
      "chunk:   0%|          | 446/277578 [00:00<01:02, 4456.92it/s, now=None]"
     ]
    },
    {
     "name": "stdout",
     "output_type": "stream",
     "text": [
      "MoviePy - Done.\n",
      "MoviePy - Writing audio in /Users/Lajobu/Desktop/Projects/Text mining/Audio analysis/Audios/httpswwwyoutubecomwatchv=DXPZGgeA5Lg.wav\n"
     ]
    },
    {
     "name": "stderr",
     "output_type": "stream",
     "text": [
      "chunk:   0%|          | 0/10476 [00:00<?, ?it/s, now=None]                "
     ]
    },
    {
     "name": "stdout",
     "output_type": "stream",
     "text": [
      "MoviePy - Done.\n",
      "MoviePy - Writing audio in /Users/Lajobu/Desktop/Projects/Text mining/Audio analysis/Audios/httpswwwyoutubecomwatchv=LX674dEO6Rw.wav\n"
     ]
    },
    {
     "name": "stderr",
     "output_type": "stream",
     "text": [
      "chunk:   3%|▎         | 381/13341 [00:00<00:03, 3802.71it/s, now=None]  "
     ]
    },
    {
     "name": "stdout",
     "output_type": "stream",
     "text": [
      "MoviePy - Done.\n",
      "MoviePy - Writing audio in /Users/Lajobu/Desktop/Projects/Text mining/Audio analysis/Audios/httpswwwyoutubecomwatchv=sQuJFRjKByk.wav\n"
     ]
    },
    {
     "name": "stderr",
     "output_type": "stream",
     "text": [
      "chunk:   3%|▎         | 391/11610 [00:00<00:02, 3906.76it/s, now=None]  "
     ]
    },
    {
     "name": "stdout",
     "output_type": "stream",
     "text": [
      "MoviePy - Done.\n",
      "MoviePy - Writing audio in /Users/Lajobu/Desktop/Projects/Text mining/Audio analysis/Audios/httpswwwyoutubecomwatchv=9oR05HPNy2Q.wav\n"
     ]
    },
    {
     "name": "stderr",
     "output_type": "stream",
     "text": [
      "chunk:  14%|█▍        | 401/2904 [00:00<00:00, 4007.83it/s, now=None]   "
     ]
    },
    {
     "name": "stdout",
     "output_type": "stream",
     "text": [
      "MoviePy - Done.\n",
      "MoviePy - Writing audio in /Users/Lajobu/Desktop/Projects/Text mining/Audio analysis/Audios/httpswwwyoutubecomwatchv=UnA7tepsc7s.wav\n"
     ]
    },
    {
     "name": "stderr",
     "output_type": "stream",
     "text": [
      "chunk:   2%|▏         | 367/24324 [00:00<00:06, 3668.71it/s, now=None]"
     ]
    },
    {
     "name": "stdout",
     "output_type": "stream",
     "text": [
      "MoviePy - Done.\n",
      "MoviePy - Writing audio in /Users/Lajobu/Desktop/Projects/Text mining/Audio analysis/Audios/httpswwwyoutubecomwatchv=inBdrUEiy1Y.wav\n"
     ]
    },
    {
     "name": "stderr",
     "output_type": "stream",
     "text": [
      "chunk:   2%|▏         | 404/22053 [00:00<00:05, 3908.93it/s, now=None]  "
     ]
    },
    {
     "name": "stdout",
     "output_type": "stream",
     "text": [
      "MoviePy - Done.\n",
      "MoviePy - Writing audio in /Users/Lajobu/Desktop/Projects/Text mining/Audio analysis/Audios/httpswwwyoutubecomwatchv=DhHZV9cL9Cs.wav\n"
     ]
    },
    {
     "name": "stderr",
     "output_type": "stream",
     "text": [
      "chunk:   2%|▏         | 405/20577 [00:00<00:05, 4021.09it/s, now=None]  "
     ]
    },
    {
     "name": "stdout",
     "output_type": "stream",
     "text": [
      "MoviePy - Done.\n",
      "MoviePy - Writing audio in /Users/Lajobu/Desktop/Projects/Text mining/Audio analysis/Audios/httpswwwyoutubecomwatchv=5KrN_eOMqPY.wav\n"
     ]
    },
    {
     "name": "stderr",
     "output_type": "stream",
     "text": [
      "chunk:   4%|▎         | 405/11151 [00:00<00:02, 3928.71it/s, now=None]  "
     ]
    },
    {
     "name": "stdout",
     "output_type": "stream",
     "text": [
      "MoviePy - Done.\n",
      "MoviePy - Writing audio in /Users/Lajobu/Desktop/Projects/Text mining/Audio analysis/Audios/httpswwwyoutubecomwatchv=yx5gcGbonjg.wav\n"
     ]
    },
    {
     "name": "stderr",
     "output_type": "stream",
     "text": [
      "chunk:   2%|▏         | 406/17780 [00:00<00:04, 4008.13it/s, now=None]  "
     ]
    },
    {
     "name": "stdout",
     "output_type": "stream",
     "text": [
      "MoviePy - Done.\n",
      "MoviePy - Writing audio in /Users/Lajobu/Desktop/Projects/Text mining/Audio analysis/Audios/httpswwwyoutubecomwatchv=QMW9UFDJoJ4.wav\n"
     ]
    },
    {
     "name": "stderr",
     "output_type": "stream",
     "text": [
      "chunk:   4%|▍         | 408/9285 [00:00<00:02, 3980.53it/s, now=None]   "
     ]
    },
    {
     "name": "stdout",
     "output_type": "stream",
     "text": [
      "MoviePy - Done.\n",
      "MoviePy - Writing audio in /Users/Lajobu/Desktop/Projects/Text mining/Audio analysis/Audios/httpswwwyoutubecomwatchv=NjcmUxaPtRc.wav\n"
     ]
    },
    {
     "name": "stderr",
     "output_type": "stream",
     "text": [
      "chunk:   3%|▎         | 388/11969 [00:00<00:02, 3879.74it/s, now=None]"
     ]
    },
    {
     "name": "stdout",
     "output_type": "stream",
     "text": [
      "MoviePy - Done.\n",
      "MoviePy - Writing audio in /Users/Lajobu/Desktop/Projects/Text mining/Audio analysis/Audios/httpswwwyoutubecomwatchv=hDj2R1Nwwkw.wav\n"
     ]
    },
    {
     "name": "stderr",
     "output_type": "stream",
     "text": [
      "chunk:   4%|▍         | 375/8392 [00:00<00:02, 3744.60it/s, now=None]   "
     ]
    },
    {
     "name": "stdout",
     "output_type": "stream",
     "text": [
      "MoviePy - Done.\n",
      "MoviePy - Writing audio in /Users/Lajobu/Desktop/Projects/Text mining/Audio analysis/Audios/httpswwwyoutubecomwatchv=grsS6cO74v0.wav\n"
     ]
    },
    {
     "name": "stderr",
     "output_type": "stream",
     "text": [
      "chunk:   3%|▎         | 408/13427 [00:00<00:03, 3986.54it/s, now=None]"
     ]
    },
    {
     "name": "stdout",
     "output_type": "stream",
     "text": [
      "MoviePy - Done.\n",
      "MoviePy - Writing audio in /Users/Lajobu/Desktop/Projects/Text mining/Audio analysis/Audios/httpswwwyoutubecomwatchv=Or93seVaq-8.wav\n"
     ]
    },
    {
     "name": "stderr",
     "output_type": "stream",
     "text": [
      "chunk:   1%|          | 404/38565 [00:00<00:09, 3892.33it/s, now=None]  "
     ]
    },
    {
     "name": "stdout",
     "output_type": "stream",
     "text": [
      "MoviePy - Done.\n",
      "MoviePy - Writing audio in /Users/Lajobu/Desktop/Projects/Text mining/Audio analysis/Audios/httpswwwyoutubecomwatchv=OrM5QlKYGDk.wav\n"
     ]
    },
    {
     "name": "stderr",
     "output_type": "stream",
     "text": [
      "chunk:   1%|          | 402/49983 [00:00<00:12, 3895.50it/s, now=None]  "
     ]
    },
    {
     "name": "stdout",
     "output_type": "stream",
     "text": [
      "MoviePy - Done.\n",
      "MoviePy - Writing audio in /Users/Lajobu/Desktop/Projects/Text mining/Audio analysis/Audios/httpswwwyoutubecomwatchv=MoNmInSoBvc.wav\n"
     ]
    },
    {
     "name": "stderr",
     "output_type": "stream",
     "text": [
      "chunk:   0%|          | 0/37525 [00:00<?, ?it/s, now=None]              "
     ]
    },
    {
     "name": "stdout",
     "output_type": "stream",
     "text": [
      "MoviePy - Done.\n",
      "MoviePy - Writing audio in /Users/Lajobu/Desktop/Projects/Text mining/Audio analysis/Audios/httpswwwyoutubecomwatchv=VPRHFB4GOGM.wav\n"
     ]
    },
    {
     "name": "stderr",
     "output_type": "stream",
     "text": [
      "chunk:   2%|▏         | 405/17593 [00:00<00:04, 4007.79it/s, now=None]  "
     ]
    },
    {
     "name": "stdout",
     "output_type": "stream",
     "text": [
      "MoviePy - Done.\n",
      "MoviePy - Writing audio in /Users/Lajobu/Desktop/Projects/Text mining/Audio analysis/Audios/httpswwwyoutubecomwatchv=_4NEgChZ4ME.wav\n"
     ]
    },
    {
     "name": "stderr",
     "output_type": "stream",
     "text": [
      "chunk:   1%|          | 393/50955 [00:00<00:12, 3924.93it/s, now=None]  "
     ]
    },
    {
     "name": "stdout",
     "output_type": "stream",
     "text": [
      "MoviePy - Done.\n",
      "MoviePy - Writing audio in /Users/Lajobu/Desktop/Projects/Text mining/Audio analysis/Audios/httpswwwyoutubecomwatchv=rjzCu1rpvew.wav\n"
     ]
    },
    {
     "name": "stderr",
     "output_type": "stream",
     "text": [
      "chunk:   0%|          | 452/168523 [00:00<00:38, 4406.83it/s, now=None] "
     ]
    },
    {
     "name": "stdout",
     "output_type": "stream",
     "text": [
      "MoviePy - Done.\n",
      "MoviePy - Writing audio in /Users/Lajobu/Desktop/Projects/Text mining/Audio analysis/Audios/httpswwwyoutubecomwatchv=48-AY6Wz-7A.wav\n"
     ]
    },
    {
     "name": "stderr",
     "output_type": "stream",
     "text": [
      "chunk:   0%|          | 0/31369 [00:00<?, ?it/s, now=None]                "
     ]
    },
    {
     "name": "stdout",
     "output_type": "stream",
     "text": [
      "MoviePy - Done.\n",
      "MoviePy - Writing audio in /Users/Lajobu/Desktop/Projects/Text mining/Audio analysis/Audios/httpswwwyoutubecomwatchv=xFYci8avOOo.wav\n"
     ]
    },
    {
     "name": "stderr",
     "output_type": "stream",
     "text": [
      "chunk:   2%|▏         | 408/24186 [00:00<00:05, 4071.12it/s, now=None]  "
     ]
    },
    {
     "name": "stdout",
     "output_type": "stream",
     "text": [
      "MoviePy - Done.\n",
      "MoviePy - Writing audio in /Users/Lajobu/Desktop/Projects/Text mining/Audio analysis/Audios/httpswwwyoutubecomwatchv=Fb0UTusB1u8.wav\n"
     ]
    },
    {
     "name": "stderr",
     "output_type": "stream",
     "text": [
      "chunk:   1%|▏         | 402/31341 [00:00<00:07, 3931.27it/s, now=None]  "
     ]
    },
    {
     "name": "stdout",
     "output_type": "stream",
     "text": [
      "MoviePy - Done.\n",
      "MoviePy - Writing audio in /Users/Lajobu/Desktop/Projects/Text mining/Audio analysis/Audios/httpswwwyoutubecomwatchv=ZE60Efg36aY.wav\n"
     ]
    },
    {
     "name": "stderr",
     "output_type": "stream",
     "text": [
      "chunk:   3%|▎         | 433/13708 [00:00<00:03, 4326.37it/s, now=None]  "
     ]
    },
    {
     "name": "stdout",
     "output_type": "stream",
     "text": [
      "MoviePy - Done.\n",
      "MoviePy - Writing audio in /Users/Lajobu/Desktop/Projects/Text mining/Audio analysis/Audios/httpswwwyoutubecomwatchv=HupFxtgwt0g.wav\n"
     ]
    },
    {
     "name": "stderr",
     "output_type": "stream",
     "text": [
      "chunk:   2%|▏         | 399/17401 [00:00<00:04, 3988.29it/s, now=None]  "
     ]
    },
    {
     "name": "stdout",
     "output_type": "stream",
     "text": [
      "MoviePy - Done.\n",
      "MoviePy - Writing audio in /Users/Lajobu/Desktop/Projects/Text mining/Audio analysis/Audios/httpswwwyoutubecomwatchv=iR_4CWOJLNk.wav\n"
     ]
    },
    {
     "name": "stderr",
     "output_type": "stream",
     "text": [
      "chunk:   4%|▍         | 383/10161 [00:00<00:02, 3828.73it/s, now=None]  "
     ]
    },
    {
     "name": "stdout",
     "output_type": "stream",
     "text": [
      "MoviePy - Done.\n",
      "MoviePy - Writing audio in /Users/Lajobu/Desktop/Projects/Text mining/Audio analysis/Audios/httpswwwyoutubecomwatchv=6s_p1eXQGK0.wav\n"
     ]
    },
    {
     "name": "stderr",
     "output_type": "stream",
     "text": [
      "chunk:   1%|          | 405/50341 [00:00<00:12, 3964.87it/s, now=None]  "
     ]
    },
    {
     "name": "stdout",
     "output_type": "stream",
     "text": [
      "MoviePy - Done.\n",
      "MoviePy - Writing audio in /Users/Lajobu/Desktop/Projects/Text mining/Audio analysis/Audios/httpswwwyoutubecomwatchv=ZAl1f_TQYTk.wav\n"
     ]
    },
    {
     "name": "stderr",
     "output_type": "stream",
     "text": [
      "chunk:   6%|▌         | 400/7043 [00:00<00:01, 3995.29it/s, now=None]   "
     ]
    },
    {
     "name": "stdout",
     "output_type": "stream",
     "text": [
      "MoviePy - Done.\n",
      "MoviePy - Writing audio in /Users/Lajobu/Desktop/Projects/Text mining/Audio analysis/Audios/httpswwwyoutubecomwatchv=uUJKRrqOf8M.wav\n"
     ]
    },
    {
     "name": "stderr",
     "output_type": "stream",
     "text": [
      "chunk:   2%|▏         | 365/14641 [00:00<00:03, 3648.32it/s, now=None]"
     ]
    },
    {
     "name": "stdout",
     "output_type": "stream",
     "text": [
      "MoviePy - Done.\n",
      "MoviePy - Writing audio in /Users/Lajobu/Desktop/Projects/Text mining/Audio analysis/Audios/httpswwwyoutubecomwatchv=xvEnrG3xSOM.wav\n"
     ]
    },
    {
     "name": "stderr",
     "output_type": "stream",
     "text": [
      "chunk:   6%|▌         | 408/6920 [00:00<00:01, 3899.94it/s, now=None]   "
     ]
    },
    {
     "name": "stdout",
     "output_type": "stream",
     "text": [
      "MoviePy - Done.\n",
      "MoviePy - Writing audio in /Users/Lajobu/Desktop/Projects/Text mining/Audio analysis/Audios/httpswwwyoutubecomwatchv=Qyn8-dXpvX8.wav\n"
     ]
    },
    {
     "name": "stderr",
     "output_type": "stream",
     "text": [
      "chunk:   0%|          | 412/154352 [00:00<00:37, 4119.66it/s, now=None]"
     ]
    },
    {
     "name": "stdout",
     "output_type": "stream",
     "text": [
      "MoviePy - Done.\n",
      "MoviePy - Writing audio in /Users/Lajobu/Desktop/Projects/Text mining/Audio analysis/Audios/httpswwwyoutubecomwatchv=Gdpfu67F1KQ.wav\n"
     ]
    },
    {
     "name": "stderr",
     "output_type": "stream",
     "text": [
      "chunk:   2%|▏         | 373/23435 [00:00<00:06, 3726.27it/s, now=None]    "
     ]
    },
    {
     "name": "stdout",
     "output_type": "stream",
     "text": [
      "MoviePy - Done.\n",
      "MoviePy - Writing audio in /Users/Lajobu/Desktop/Projects/Text mining/Audio analysis/Audios/httpswwwyoutubecomwatchv=C5pHpQqhmR4.wav\n"
     ]
    },
    {
     "name": "stderr",
     "output_type": "stream",
     "text": [
      "chunk:   3%|▎         | 395/12515 [00:00<00:03, 3948.94it/s, now=None]  "
     ]
    },
    {
     "name": "stdout",
     "output_type": "stream",
     "text": [
      "MoviePy - Done.\n",
      "MoviePy - Writing audio in /Users/Lajobu/Desktop/Projects/Text mining/Audio analysis/Audios/httpswwwyoutubecomwatchv=yNkhgo1waU0.wav\n"
     ]
    },
    {
     "name": "stderr",
     "output_type": "stream",
     "text": [
      "chunk:  11%|█         | 392/3594 [00:00<00:00, 3916.88it/s, now=None]   "
     ]
    },
    {
     "name": "stdout",
     "output_type": "stream",
     "text": [
      "MoviePy - Done.\n",
      "MoviePy - Writing audio in /Users/Lajobu/Desktop/Projects/Text mining/Audio analysis/Audios/httpswwwyoutubecomwatchv=GsU5Nhm520I.wav\n"
     ]
    },
    {
     "name": "stderr",
     "output_type": "stream",
     "text": [
      "chunk:   2%|▏         | 408/20336 [00:00<00:04, 4006.53it/s, now=None]"
     ]
    },
    {
     "name": "stdout",
     "output_type": "stream",
     "text": [
      "MoviePy - Done.\n",
      "MoviePy - Writing audio in /Users/Lajobu/Desktop/Projects/Text mining/Audio analysis/Audios/httpswwwyoutubecomwatchv=vPJeOKsrjtk.wav\n"
     ]
    },
    {
     "name": "stderr",
     "output_type": "stream",
     "text": [
      "chunk:   3%|▎         | 407/13563 [00:00<00:03, 4062.73it/s, now=None]  "
     ]
    },
    {
     "name": "stdout",
     "output_type": "stream",
     "text": [
      "MoviePy - Done.\n",
      "MoviePy - Writing audio in /Users/Lajobu/Desktop/Projects/Text mining/Audio analysis/Audios/httpswwwyoutubecomwatchv=u2AkZVPZkbI.wav\n"
     ]
    },
    {
     "name": "stderr",
     "output_type": "stream",
     "text": [
      "chunk:   4%|▎         | 408/11077 [00:00<00:02, 4060.67it/s, now=None]  "
     ]
    },
    {
     "name": "stdout",
     "output_type": "stream",
     "text": [
      "MoviePy - Done.\n",
      "MoviePy - Writing audio in /Users/Lajobu/Desktop/Projects/Text mining/Audio analysis/Audios/httpswwwyoutubecomwatchv=cL9djhdLPGA.wav\n"
     ]
    },
    {
     "name": "stderr",
     "output_type": "stream",
     "text": [
      "chunk:   6%|▌         | 368/6124 [00:00<00:01, 3676.00it/s, now=None]   "
     ]
    },
    {
     "name": "stdout",
     "output_type": "stream",
     "text": [
      "MoviePy - Done.\n",
      "MoviePy - Writing audio in /Users/Lajobu/Desktop/Projects/Text mining/Audio analysis/Audios/httpswwwyoutubecomwatchv=Y6SMrmSbtrs.wav\n"
     ]
    },
    {
     "name": "stderr",
     "output_type": "stream",
     "text": [
      "chunk:   2%|▏         | 404/19864 [00:00<00:04, 4037.94it/s, now=None]"
     ]
    },
    {
     "name": "stdout",
     "output_type": "stream",
     "text": [
      "MoviePy - Done.\n",
      "MoviePy - Writing audio in /Users/Lajobu/Desktop/Projects/Text mining/Audio analysis/Audios/httpswwwyoutubecomwatchv=D1FOET5JX-0.wav\n"
     ]
    },
    {
     "name": "stderr",
     "output_type": "stream",
     "text": [
      "chunk:   4%|▎         | 413/11340 [00:00<00:02, 4127.99it/s, now=None]  "
     ]
    },
    {
     "name": "stdout",
     "output_type": "stream",
     "text": [
      "MoviePy - Done.\n",
      "MoviePy - Writing audio in /Users/Lajobu/Desktop/Projects/Text mining/Audio analysis/Audios/httpswwwyoutubecomwatchv=sFnN9eZzk_8.wav\n"
     ]
    },
    {
     "name": "stderr",
     "output_type": "stream",
     "text": [
      "chunk:   1%|          | 353/37992 [00:00<00:11, 3409.38it/s, now=None]  "
     ]
    },
    {
     "name": "stdout",
     "output_type": "stream",
     "text": [
      "MoviePy - Done.\n",
      "MoviePy - Writing audio in /Users/Lajobu/Desktop/Projects/Text mining/Audio analysis/Audios/httpswwwyoutubecomwatchv=0UiXx-_fL5U.wav\n"
     ]
    },
    {
     "name": "stderr",
     "output_type": "stream",
     "text": [
      "chunk:   7%|▋         | 370/5523 [00:00<00:01, 3695.67it/s, now=None]   "
     ]
    },
    {
     "name": "stdout",
     "output_type": "stream",
     "text": [
      "MoviePy - Done.\n",
      "MoviePy - Writing audio in /Users/Lajobu/Desktop/Projects/Text mining/Audio analysis/Audios/httpswwwyoutubecomwatchv=47QVy41ZGGI.wav\n"
     ]
    },
    {
     "name": "stderr",
     "output_type": "stream",
     "text": [
      "chunk:   1%|          | 381/32536 [00:00<00:08, 3802.52it/s, now=None]"
     ]
    },
    {
     "name": "stdout",
     "output_type": "stream",
     "text": [
      "MoviePy - Done.\n",
      "MoviePy - Writing audio in /Users/Lajobu/Desktop/Projects/Text mining/Audio analysis/Audios/httpswwwyoutubecomwatchv=hZp8fXLXgqg.wav\n"
     ]
    },
    {
     "name": "stderr",
     "output_type": "stream",
     "text": [
      "chunk:   6%|▌         | 410/6918 [00:00<00:01, 4095.57it/s, now=None]   "
     ]
    },
    {
     "name": "stdout",
     "output_type": "stream",
     "text": [
      "MoviePy - Done.\n",
      "MoviePy - Writing audio in /Users/Lajobu/Desktop/Projects/Text mining/Audio analysis/Audios/httpswwwyoutubecomwatchv=BO8lX3hDU30.wav\n"
     ]
    },
    {
     "name": "stderr",
     "output_type": "stream",
     "text": [
      "chunk:   3%|▎         | 392/14503 [00:00<00:03, 3917.14it/s, now=None]"
     ]
    },
    {
     "name": "stdout",
     "output_type": "stream",
     "text": [
      "MoviePy - Done.\n",
      "MoviePy - Writing audio in /Users/Lajobu/Desktop/Projects/Text mining/Audio analysis/Audios/httpswwwyoutubecomwatchv=nCCn3zURF_U.wav\n"
     ]
    },
    {
     "name": "stderr",
     "output_type": "stream",
     "text": [
      "chunk:   2%|▏         | 377/18100 [00:00<00:04, 3766.46it/s, now=None]  "
     ]
    },
    {
     "name": "stdout",
     "output_type": "stream",
     "text": [
      "MoviePy - Done.\n",
      "MoviePy - Writing audio in /Users/Lajobu/Desktop/Projects/Text mining/Audio analysis/Audios/httpswwwyoutubecomwatchv=_tLn0BjUDR8.wav\n"
     ]
    },
    {
     "name": "stderr",
     "output_type": "stream",
     "text": [
      "chunk:   0%|          | 412/135456 [00:00<00:32, 4115.97it/s, now=None] "
     ]
    },
    {
     "name": "stdout",
     "output_type": "stream",
     "text": [
      "MoviePy - Done.\n",
      "MoviePy - Writing audio in /Users/Lajobu/Desktop/Projects/Text mining/Audio analysis/Audios/httpswwwyoutubecomwatchv=V7W1coK0hec.wav\n"
     ]
    },
    {
     "name": "stderr",
     "output_type": "stream",
     "text": [
      "chunk:   0%|          | 0/17538 [00:00<?, ?it/s, now=None]                "
     ]
    },
    {
     "name": "stdout",
     "output_type": "stream",
     "text": [
      "MoviePy - Done.\n",
      "MoviePy - Writing audio in /Users/Lajobu/Desktop/Projects/Text mining/Audio analysis/Audios/httpswwwyoutubecomwatchv=hKHoS4qdbUc.wav\n"
     ]
    },
    {
     "name": "stderr",
     "output_type": "stream",
     "text": [
      "chunk:   4%|▍         | 375/8560 [00:00<00:02, 3748.39it/s, now=None]   "
     ]
    },
    {
     "name": "stdout",
     "output_type": "stream",
     "text": [
      "MoviePy - Done.\n",
      "MoviePy - Writing audio in /Users/Lajobu/Desktop/Projects/Text mining/Audio analysis/Audios/httpswwwyoutubecomwatchv=qho3CtKqpjY.wav\n"
     ]
    },
    {
     "name": "stderr",
     "output_type": "stream",
     "text": [
      "chunk:   3%|▎         | 408/16242 [00:00<00:03, 4051.08it/s, now=None]"
     ]
    },
    {
     "name": "stdout",
     "output_type": "stream",
     "text": [
      "MoviePy - Done.\n",
      "MoviePy - Writing audio in /Users/Lajobu/Desktop/Projects/Text mining/Audio analysis/Audios/httpswwwyoutubecomwatchv=lvpYxGBq6bU.wav\n"
     ]
    },
    {
     "name": "stderr",
     "output_type": "stream",
     "text": [
      "chunk:   1%|▏         | 407/27862 [00:00<00:07, 3899.21it/s, now=None]  "
     ]
    },
    {
     "name": "stdout",
     "output_type": "stream",
     "text": [
      "MoviePy - Done.\n",
      "MoviePy - Writing audio in /Users/Lajobu/Desktop/Projects/Text mining/Audio analysis/Audios/httpswwwyoutubecomwatchv=d4Mt4rJHgA4.wav\n"
     ]
    },
    {
     "name": "stderr",
     "output_type": "stream",
     "text": [
      "chunk:   4%|▎         | 385/10470 [00:00<00:02, 3848.99it/s, now=None]  "
     ]
    },
    {
     "name": "stdout",
     "output_type": "stream",
     "text": [
      "MoviePy - Done.\n",
      "MoviePy - Writing audio in /Users/Lajobu/Desktop/Projects/Text mining/Audio analysis/Audios/httpswwwyoutubecomwatchv=XPdXUqTOjs8.wav\n"
     ]
    },
    {
     "name": "stderr",
     "output_type": "stream",
     "text": [
      "chunk:   3%|▎         | 380/13066 [00:00<00:03, 3796.74it/s, now=None]  "
     ]
    },
    {
     "name": "stdout",
     "output_type": "stream",
     "text": [
      "MoviePy - Done.\n",
      "MoviePy - Writing audio in /Users/Lajobu/Desktop/Projects/Text mining/Audio analysis/Audios/httpswwwyoutubecomwatchv=o_CaBmTLfp0.wav\n"
     ]
    },
    {
     "name": "stderr",
     "output_type": "stream",
     "text": [
      "chunk:   5%|▍         | 400/8715 [00:00<00:02, 3996.49it/s, now=None]   "
     ]
    },
    {
     "name": "stdout",
     "output_type": "stream",
     "text": [
      "MoviePy - Done.\n",
      "MoviePy - Writing audio in /Users/Lajobu/Desktop/Projects/Text mining/Audio analysis/Audios/httpswwwyoutubecomwatchv=r-92JYmkV30.wav\n"
     ]
    },
    {
     "name": "stderr",
     "output_type": "stream",
     "text": [
      "chunk:   8%|▊         | 398/5033 [00:00<00:01, 3979.69it/s, now=None] "
     ]
    },
    {
     "name": "stdout",
     "output_type": "stream",
     "text": [
      "MoviePy - Done.\n",
      "MoviePy - Writing audio in /Users/Lajobu/Desktop/Projects/Text mining/Audio analysis/Audios/httpswwwyoutubecomwatchv=QfpoTjUz1BY.wav\n"
     ]
    },
    {
     "name": "stderr",
     "output_type": "stream",
     "text": [
      "chunk:   1%|          | 420/39535 [00:00<00:09, 4195.38it/s, now=None]"
     ]
    },
    {
     "name": "stdout",
     "output_type": "stream",
     "text": [
      "MoviePy - Done.\n",
      "MoviePy - Writing audio in /Users/Lajobu/Desktop/Projects/Text mining/Audio analysis/Audios/httpswwwyoutubecomwatchv=7v7Fywkf3Ls.wav\n"
     ]
    },
    {
     "name": "stderr",
     "output_type": "stream",
     "text": [
      "chunk:   1%|▏         | 357/24493 [00:00<00:06, 3558.42it/s, now=None]  "
     ]
    },
    {
     "name": "stdout",
     "output_type": "stream",
     "text": [
      "MoviePy - Done.\n",
      "MoviePy - Writing audio in /Users/Lajobu/Desktop/Projects/Text mining/Audio analysis/Audios/httpswwwyoutubecomwatchv=Wzu_2edC734.wav\n"
     ]
    },
    {
     "name": "stderr",
     "output_type": "stream",
     "text": [
      "chunk:   1%|          | 402/69880 [00:00<00:17, 4016.51it/s, now=None]  "
     ]
    },
    {
     "name": "stdout",
     "output_type": "stream",
     "text": [
      "MoviePy - Done.\n",
      "MoviePy - Writing audio in /Users/Lajobu/Desktop/Projects/Text mining/Audio analysis/Audios/httpswwwyoutubecomwatchv=HJKeBbk-9YA.wav\n"
     ]
    },
    {
     "name": "stderr",
     "output_type": "stream",
     "text": [
      "chunk:   1%|          | 384/35837 [00:00<00:09, 3838.54it/s, now=None]  "
     ]
    },
    {
     "name": "stdout",
     "output_type": "stream",
     "text": [
      "MoviePy - Done.\n",
      "MoviePy - Writing audio in /Users/Lajobu/Desktop/Projects/Text mining/Audio analysis/Audios/httpswwwyoutubecomwatchv=hQgzBhXK8So.wav\n"
     ]
    },
    {
     "name": "stderr",
     "output_type": "stream",
     "text": [
      "chunk:   3%|▎         | 405/13588 [00:00<00:03, 3875.20it/s, now=None]  "
     ]
    },
    {
     "name": "stdout",
     "output_type": "stream",
     "text": [
      "MoviePy - Done.\n",
      "MoviePy - Writing audio in /Users/Lajobu/Desktop/Projects/Text mining/Audio analysis/Audios/httpswwwyoutubecomwatchv=ua0k5T7o4tk.wav\n"
     ]
    },
    {
     "name": "stderr",
     "output_type": "stream",
     "text": [
      "chunk:   4%|▍         | 408/9247 [00:00<00:02, 3897.66it/s, now=None]   "
     ]
    },
    {
     "name": "stdout",
     "output_type": "stream",
     "text": [
      "MoviePy - Done.\n",
      "MoviePy - Writing audio in /Users/Lajobu/Desktop/Projects/Text mining/Audio analysis/Audios/httpswwwyoutubecomwatchv=YJsXnTyaVdU.wav\n"
     ]
    },
    {
     "name": "stderr",
     "output_type": "stream",
     "text": [
      "chunk:   2%|▏         | 406/17691 [00:00<00:04, 3955.66it/s, now=None]"
     ]
    },
    {
     "name": "stdout",
     "output_type": "stream",
     "text": [
      "MoviePy - Done.\n",
      "MoviePy - Writing audio in /Users/Lajobu/Desktop/Projects/Text mining/Audio analysis/Audios/httpswwwyoutubecomwatchv=NNd8_DjVK2E.wav\n"
     ]
    },
    {
     "name": "stderr",
     "output_type": "stream",
     "text": [
      "chunk:   3%|▎         | 404/13526 [00:00<00:03, 3853.85it/s, now=None]  "
     ]
    },
    {
     "name": "stdout",
     "output_type": "stream",
     "text": [
      "MoviePy - Done.\n",
      "MoviePy - Writing audio in /Users/Lajobu/Desktop/Projects/Text mining/Audio analysis/Audios/httpswwwyoutubecomwatchv=BFTGQv4E614.wav\n"
     ]
    },
    {
     "name": "stderr",
     "output_type": "stream",
     "text": [
      "chunk:   2%|▏         | 408/19733 [00:00<00:04, 3953.61it/s, now=None]  "
     ]
    },
    {
     "name": "stdout",
     "output_type": "stream",
     "text": [
      "MoviePy - Done.\n",
      "MoviePy - Writing audio in /Users/Lajobu/Desktop/Projects/Text mining/Audio analysis/Audios/httpswwwyoutubecomwatchv=0zf1UIdqbks.wav\n"
     ]
    },
    {
     "name": "stderr",
     "output_type": "stream",
     "text": [
      "chunk:   2%|▏         | 408/26717 [00:00<00:06, 3926.88it/s, now=None]  "
     ]
    },
    {
     "name": "stdout",
     "output_type": "stream",
     "text": [
      "MoviePy - Done.\n",
      "MoviePy - Writing audio in /Users/Lajobu/Desktop/Projects/Text mining/Audio analysis/Audios/httpswwwyoutubecomwatchv=md9xcap1Hxc.wav\n"
     ]
    },
    {
     "name": "stderr",
     "output_type": "stream",
     "text": [
      "chunk:   2%|▏         | 408/16757 [00:00<00:04, 4034.25it/s, now=None]  "
     ]
    },
    {
     "name": "stdout",
     "output_type": "stream",
     "text": [
      "MoviePy - Done.\n",
      "MoviePy - Writing audio in /Users/Lajobu/Desktop/Projects/Text mining/Audio analysis/Audios/httpswwwyoutubecomwatchv=xf7XWU8QJPU.wav\n"
     ]
    },
    {
     "name": "stderr",
     "output_type": "stream",
     "text": [
      "chunk:   2%|▏         | 408/17943 [00:00<00:04, 3884.30it/s, now=None]  "
     ]
    },
    {
     "name": "stdout",
     "output_type": "stream",
     "text": [
      "MoviePy - Done.\n",
      "MoviePy - Writing audio in /Users/Lajobu/Desktop/Projects/Text mining/Audio analysis/Audios/httpswwwyoutubecomwatchv=QcH9c_rJItE.wav\n"
     ]
    },
    {
     "name": "stderr",
     "output_type": "stream",
     "text": [
      "chunk:   3%|▎         | 393/14162 [00:00<00:03, 3927.73it/s, now=None]  "
     ]
    },
    {
     "name": "stdout",
     "output_type": "stream",
     "text": [
      "MoviePy - Done.\n",
      "MoviePy - Writing audio in /Users/Lajobu/Desktop/Projects/Text mining/Audio analysis/Audios/httpswwwyoutubecomwatchv=VDrdUFmzLKA.wav\n"
     ]
    },
    {
     "name": "stderr",
     "output_type": "stream",
     "text": [
      "chunk:   1%|          | 408/46597 [00:00<00:11, 4074.57it/s, now=None]  "
     ]
    },
    {
     "name": "stdout",
     "output_type": "stream",
     "text": [
      "MoviePy - Done.\n",
      "MoviePy - Writing audio in /Users/Lajobu/Desktop/Projects/Text mining/Audio analysis/Audios/httpswwwyoutubecomwatchv=X4iBGFntcPs.wav\n"
     ]
    },
    {
     "name": "stderr",
     "output_type": "stream",
     "text": [
      "chunk:   3%|▎         | 408/14265 [00:00<00:03, 3956.26it/s, now=None]  "
     ]
    },
    {
     "name": "stdout",
     "output_type": "stream",
     "text": [
      "MoviePy - Done.\n",
      "MoviePy - Writing audio in /Users/Lajobu/Desktop/Projects/Text mining/Audio analysis/Audios/httpswwwyoutubecomwatchv=lV_Lv2vqTJw.wav\n"
     ]
    },
    {
     "name": "stderr",
     "output_type": "stream",
     "text": [
      "chunk:   7%|▋         | 408/6105 [00:00<00:01, 4075.48it/s, now=None]   "
     ]
    },
    {
     "name": "stdout",
     "output_type": "stream",
     "text": [
      "MoviePy - Done.\n",
      "MoviePy - Writing audio in /Users/Lajobu/Desktop/Projects/Text mining/Audio analysis/Audios/httpswwwyoutubecomwatchv=03dhKptAy6U.wav\n"
     ]
    },
    {
     "name": "stderr",
     "output_type": "stream",
     "text": [
      "chunk:   3%|▎         | 408/15271 [00:00<00:03, 4077.22it/s, now=None]"
     ]
    },
    {
     "name": "stdout",
     "output_type": "stream",
     "text": [
      "MoviePy - Done.\n",
      "MoviePy - Writing audio in /Users/Lajobu/Desktop/Projects/Text mining/Audio analysis/Audios/httpswwwyoutubecomwatchv=-DkOLHq85MQ.wav\n"
     ]
    },
    {
     "name": "stderr",
     "output_type": "stream",
     "text": [
      "chunk:   2%|▏         | 357/15952 [00:00<00:04, 3521.24it/s, now=None]  "
     ]
    },
    {
     "name": "stdout",
     "output_type": "stream",
     "text": [
      "MoviePy - Done.\n",
      "MoviePy - Writing audio in /Users/Lajobu/Desktop/Projects/Text mining/Audio analysis/Audios/httpswwwyoutubecomwatchv=nJwFAwYDTpk.wav\n"
     ]
    },
    {
     "name": "stderr",
     "output_type": "stream",
     "text": [
      "chunk:   2%|▏         | 394/20037 [00:00<00:04, 3934.37it/s, now=None]  "
     ]
    },
    {
     "name": "stdout",
     "output_type": "stream",
     "text": [
      "MoviePy - Done.\n",
      "MoviePy - Writing audio in /Users/Lajobu/Desktop/Projects/Text mining/Audio analysis/Audios/httpswwwyoutubecomwatchv=ws9nljEbBhs.wav\n"
     ]
    },
    {
     "name": "stderr",
     "output_type": "stream",
     "text": [
      "chunk:   2%|▏         | 357/23495 [00:00<00:06, 3519.22it/s, now=None]  "
     ]
    },
    {
     "name": "stdout",
     "output_type": "stream",
     "text": [
      "MoviePy - Done.\n",
      "MoviePy - Writing audio in /Users/Lajobu/Desktop/Projects/Text mining/Audio analysis/Audios/httpswwwyoutubecomwatchv=gbLgzYcH338.wav\n"
     ]
    },
    {
     "name": "stderr",
     "output_type": "stream",
     "text": [
      "chunk:   3%|▎         | 408/15393 [00:00<00:03, 3866.52it/s, now=None]  "
     ]
    },
    {
     "name": "stdout",
     "output_type": "stream",
     "text": [
      "MoviePy - Done.\n",
      "MoviePy - Writing audio in /Users/Lajobu/Desktop/Projects/Text mining/Audio analysis/Audios/httpswwwyoutubecomwatchv=EpKltg33zR0.wav\n"
     ]
    },
    {
     "name": "stderr",
     "output_type": "stream",
     "text": [
      "chunk:   2%|▏         | 372/22046 [00:00<00:05, 3715.95it/s, now=None]  "
     ]
    },
    {
     "name": "stdout",
     "output_type": "stream",
     "text": [
      "MoviePy - Done.\n",
      "MoviePy - Writing audio in /Users/Lajobu/Desktop/Projects/Text mining/Audio analysis/Audios/httpswwwyoutubecomwatchv=0ocSFqWZpHQ.wav\n"
     ]
    },
    {
     "name": "stderr",
     "output_type": "stream",
     "text": [
      "chunk:   0%|          | 423/264663 [00:00<01:02, 4226.92it/s, now=None] "
     ]
    },
    {
     "name": "stdout",
     "output_type": "stream",
     "text": [
      "MoviePy - Done.\n",
      "MoviePy - Writing audio in /Users/Lajobu/Desktop/Projects/Text mining/Audio analysis/Audios/httpswwwyoutubecomwatchv=H3isCdVVPbk.wav\n"
     ]
    },
    {
     "name": "stderr",
     "output_type": "stream",
     "text": [
      "chunk:   0%|          | 0/14011 [00:00<?, ?it/s, now=None]                "
     ]
    },
    {
     "name": "stdout",
     "output_type": "stream",
     "text": [
      "MoviePy - Done.\n",
      "MoviePy - Writing audio in /Users/Lajobu/Desktop/Projects/Text mining/Audio analysis/Audios/httpswwwyoutubecomwatchv=FPzMhniHikQ.wav\n"
     ]
    },
    {
     "name": "stderr",
     "output_type": "stream",
     "text": [
      "chunk:   3%|▎         | 382/11540 [00:00<00:02, 3815.54it/s, now=None]  "
     ]
    },
    {
     "name": "stdout",
     "output_type": "stream",
     "text": [
      "MoviePy - Done.\n",
      "MoviePy - Writing audio in /Users/Lajobu/Desktop/Projects/Text mining/Audio analysis/Audios/httpswwwyoutubecomwatchv=PPLUC2hAVC0.wav\n"
     ]
    },
    {
     "name": "stderr",
     "output_type": "stream",
     "text": [
      "chunk:   1%|▏         | 228/17868 [00:00<00:07, 2277.94it/s, now=None]  "
     ]
    },
    {
     "name": "stdout",
     "output_type": "stream",
     "text": [
      "MoviePy - Done.\n",
      "MoviePy - Writing audio in /Users/Lajobu/Desktop/Projects/Text mining/Audio analysis/Audios/httpswwwyoutubecomwatchv=vbWsmfUE-ko.wav\n"
     ]
    },
    {
     "name": "stderr",
     "output_type": "stream",
     "text": [
      "chunk:   2%|▏         | 349/14537 [00:00<00:04, 3487.56it/s, now=None]  "
     ]
    },
    {
     "name": "stdout",
     "output_type": "stream",
     "text": [
      "MoviePy - Done.\n",
      "MoviePy - Writing audio in /Users/Lajobu/Desktop/Projects/Text mining/Audio analysis/Audios/httpswwwyoutubecomwatchv=PouIBncqzzQ.wav\n"
     ]
    },
    {
     "name": "stderr",
     "output_type": "stream",
     "text": [
      "chunk:  17%|█▋        | 408/2458 [00:00<00:00, 3994.94it/s, now=None]   "
     ]
    },
    {
     "name": "stdout",
     "output_type": "stream",
     "text": [
      "MoviePy - Done.\n",
      "MoviePy - Writing audio in /Users/Lajobu/Desktop/Projects/Text mining/Audio analysis/Audios/httpswwwyoutubecomwatchv=Hg7y9q9kGcE.wav\n"
     ]
    },
    {
     "name": "stderr",
     "output_type": "stream",
     "text": [
      "chunk:   3%|▎         | 366/13405 [00:00<00:03, 3658.13it/s, now=None]"
     ]
    },
    {
     "name": "stdout",
     "output_type": "stream",
     "text": [
      "MoviePy - Done.\n",
      "MoviePy - Writing audio in /Users/Lajobu/Desktop/Projects/Text mining/Audio analysis/Audios/httpswwwyoutubecomwatchv=XZe0ppA5jjM.wav\n"
     ]
    },
    {
     "name": "stderr",
     "output_type": "stream",
     "text": [
      "chunk:   6%|▋         | 402/6210 [00:00<00:01, 4016.42it/s, now=None]   "
     ]
    },
    {
     "name": "stdout",
     "output_type": "stream",
     "text": [
      "MoviePy - Done.\n",
      "MoviePy - Writing audio in /Users/Lajobu/Desktop/Projects/Text mining/Audio analysis/Audios/httpswwwyoutubecomwatchv=VDaNWS3T35o.wav\n"
     ]
    },
    {
     "name": "stderr",
     "output_type": "stream",
     "text": [
      "chunk:   3%|▎         | 408/14110 [00:00<00:03, 4030.30it/s, now=None]"
     ]
    },
    {
     "name": "stdout",
     "output_type": "stream",
     "text": [
      "MoviePy - Done.\n",
      "MoviePy - Writing audio in /Users/Lajobu/Desktop/Projects/Text mining/Audio analysis/Audios/httpswwwyoutubecomwatchv=yhj4qlItES0.wav\n"
     ]
    },
    {
     "name": "stderr",
     "output_type": "stream",
     "text": [
      "chunk:   4%|▍         | 408/9481 [00:00<00:02, 4006.06it/s, now=None]   "
     ]
    },
    {
     "name": "stdout",
     "output_type": "stream",
     "text": [
      "MoviePy - Done.\n",
      "MoviePy - Writing audio in /Users/Lajobu/Desktop/Projects/Text mining/Audio analysis/Audios/httpswwwyoutubecomwatchv=TX4SHCbY4VY.wav\n"
     ]
    },
    {
     "name": "stderr",
     "output_type": "stream",
     "text": [
      "chunk:   2%|▏         | 408/23882 [00:00<00:05, 4012.91it/s, now=None]"
     ]
    },
    {
     "name": "stdout",
     "output_type": "stream",
     "text": [
      "MoviePy - Done.\n",
      "MoviePy - Writing audio in /Users/Lajobu/Desktop/Projects/Text mining/Audio analysis/Audios/httpswwwyoutubecomwatchv=mVWJPYKCMco.wav\n"
     ]
    },
    {
     "name": "stderr",
     "output_type": "stream",
     "text": [
      "chunk:   1%|          | 369/36571 [00:00<00:09, 3689.63it/s, now=None]  "
     ]
    },
    {
     "name": "stdout",
     "output_type": "stream",
     "text": [
      "MoviePy - Done.\n",
      "MoviePy - Writing audio in /Users/Lajobu/Desktop/Projects/Text mining/Audio analysis/Audios/httpswwwyoutubecomwatchv=w9-n3_xZnfY.wav\n"
     ]
    },
    {
     "name": "stderr",
     "output_type": "stream",
     "text": [
      "chunk:   4%|▎         | 396/10652 [00:00<00:02, 3955.02it/s, now=None]  "
     ]
    },
    {
     "name": "stdout",
     "output_type": "stream",
     "text": [
      "MoviePy - Done.\n",
      "MoviePy - Writing audio in /Users/Lajobu/Desktop/Projects/Text mining/Audio analysis/Audios/httpswwwyoutubecomwatchv=qXV2JgY3sAo.wav\n"
     ]
    },
    {
     "name": "stderr",
     "output_type": "stream",
     "text": [
      "chunk:   1%|▏         | 389/30147 [00:00<00:07, 3887.75it/s, now=None]  "
     ]
    },
    {
     "name": "stdout",
     "output_type": "stream",
     "text": [
      "MoviePy - Done.\n",
      "MoviePy - Writing audio in /Users/Lajobu/Desktop/Projects/Text mining/Audio analysis/Audios/httpswwwyoutubecomwatchv=3UDAyuwK8h0.wav\n"
     ]
    },
    {
     "name": "stderr",
     "output_type": "stream",
     "text": [
      "chunk:   2%|▏         | 405/16314 [00:00<00:03, 4047.49it/s, now=None]  "
     ]
    },
    {
     "name": "stdout",
     "output_type": "stream",
     "text": [
      "MoviePy - Done.\n",
      "MoviePy - Writing audio in /Users/Lajobu/Desktop/Projects/Text mining/Audio analysis/Audios/httpswwwyoutubecomwatchv=Npydtls9tms.wav\n"
     ]
    },
    {
     "name": "stderr",
     "output_type": "stream",
     "text": [
      "chunk:   2%|▏         | 408/19987 [00:00<00:04, 3953.45it/s, now=None]  "
     ]
    },
    {
     "name": "stdout",
     "output_type": "stream",
     "text": [
      "MoviePy - Done.\n",
      "MoviePy - Writing audio in /Users/Lajobu/Desktop/Projects/Text mining/Audio analysis/Audios/httpswwwyoutubecomwatchv=LEWRJtYatwI.wav\n"
     ]
    },
    {
     "name": "stderr",
     "output_type": "stream",
     "text": [
      "chunk:   8%|▊         | 408/5157 [00:00<00:01, 3949.39it/s, now=None]   "
     ]
    },
    {
     "name": "stdout",
     "output_type": "stream",
     "text": [
      "MoviePy - Done.\n",
      "MoviePy - Writing audio in /Users/Lajobu/Desktop/Projects/Text mining/Audio analysis/Audios/httpswwwyoutubecomwatchv=HOMwjnIH1uI.wav\n"
     ]
    },
    {
     "name": "stderr",
     "output_type": "stream",
     "text": [
      "chunk:   2%|▏         | 400/17603 [00:00<00:04, 3994.18it/s, now=None]"
     ]
    },
    {
     "name": "stdout",
     "output_type": "stream",
     "text": [
      "MoviePy - Done.\n",
      "MoviePy - Writing audio in /Users/Lajobu/Desktop/Projects/Text mining/Audio analysis/Audios/httpswwwyoutubecomwatchv=HinRhyfVI9Y.wav\n"
     ]
    },
    {
     "name": "stderr",
     "output_type": "stream",
     "text": [
      "chunk:   4%|▎         | 373/10631 [00:00<00:02, 3726.27it/s, now=None]  "
     ]
    },
    {
     "name": "stdout",
     "output_type": "stream",
     "text": [
      "MoviePy - Done.\n",
      "MoviePy - Writing audio in /Users/Lajobu/Desktop/Projects/Text mining/Audio analysis/Audios/httpswwwyoutubecomwatchv=wPcPDanmeCQ.wav\n"
     ]
    },
    {
     "name": "stderr",
     "output_type": "stream",
     "text": [
      "chunk:  29%|██▉       | 405/1394 [00:00<00:00, 4049.47it/s, now=None]   "
     ]
    },
    {
     "name": "stdout",
     "output_type": "stream",
     "text": [
      "MoviePy - Done.\n",
      "MoviePy - Writing audio in /Users/Lajobu/Desktop/Projects/Text mining/Audio analysis/Audios/httpswwwyoutubecomwatchv=MPmcBllnBqk.wav\n"
     ]
    },
    {
     "name": "stderr",
     "output_type": "stream",
     "text": [
      "chunk:   0%|          | 458/396902 [00:00<01:26, 4574.97it/s, now=None]"
     ]
    },
    {
     "name": "stdout",
     "output_type": "stream",
     "text": [
      "MoviePy - Done.\n",
      "MoviePy - Writing audio in /Users/Lajobu/Desktop/Projects/Text mining/Audio analysis/Audios/httpswwwyoutubecomwatchv=Mwf-aziE1Ak.wav\n"
     ]
    },
    {
     "name": "stderr",
     "output_type": "stream",
     "text": [
      "chunk:   0%|          | 0/12898 [00:00<?, ?it/s, now=None]                "
     ]
    },
    {
     "name": "stdout",
     "output_type": "stream",
     "text": [
      "MoviePy - Done.\n",
      "MoviePy - Writing audio in /Users/Lajobu/Desktop/Projects/Text mining/Audio analysis/Audios/httpswwwyoutubecomwatchv=JkYK0T_dOK4.wav\n"
     ]
    },
    {
     "name": "stderr",
     "output_type": "stream",
     "text": [
      "chunk:  11%|█         | 396/3682 [00:00<00:00, 3959.81it/s, now=None]   "
     ]
    },
    {
     "name": "stdout",
     "output_type": "stream",
     "text": [
      "MoviePy - Done.\n",
      "MoviePy - Writing audio in /Users/Lajobu/Desktop/Projects/Text mining/Audio analysis/Audios/httpswwwyoutubecomwatchv=pEfHDqzjsT8.wav\n"
     ]
    },
    {
     "name": "stderr",
     "output_type": "stream",
     "text": [
      "chunk:   0%|          | 409/181721 [00:00<00:44, 4089.92it/s, now=None]"
     ]
    },
    {
     "name": "stdout",
     "output_type": "stream",
     "text": [
      "MoviePy - Done.\n",
      "MoviePy - Writing audio in /Users/Lajobu/Desktop/Projects/Text mining/Audio analysis/Audios/httpswwwyoutubecomwatchv=c36vPPQ7cvc.wav\n"
     ]
    },
    {
     "name": "stderr",
     "output_type": "stream",
     "text": [
      "chunk:   3%|▎         | 408/14292 [00:00<00:03, 4078.66it/s, now=None]    "
     ]
    },
    {
     "name": "stdout",
     "output_type": "stream",
     "text": [
      "MoviePy - Done.\n",
      "MoviePy - Writing audio in /Users/Lajobu/Desktop/Projects/Text mining/Audio analysis/Audios/httpswwwyoutubecomwatchv=xC4A_wTTQcY.wav\n"
     ]
    },
    {
     "name": "stderr",
     "output_type": "stream",
     "text": [
      "chunk:   2%|▏         | 447/18865 [00:00<00:04, 4465.98it/s, now=None]  "
     ]
    },
    {
     "name": "stdout",
     "output_type": "stream",
     "text": [
      "MoviePy - Done.\n",
      "MoviePy - Writing audio in /Users/Lajobu/Desktop/Projects/Text mining/Audio analysis/Audios/httpswwwyoutubecomwatchv=TRrgcRX9JCA.wav\n"
     ]
    },
    {
     "name": "stderr",
     "output_type": "stream",
     "text": [
      "chunk:   1%|▏         | 408/29476 [00:00<00:07, 4012.23it/s, now=None]  "
     ]
    },
    {
     "name": "stdout",
     "output_type": "stream",
     "text": [
      "MoviePy - Done.\n",
      "MoviePy - Writing audio in /Users/Lajobu/Desktop/Projects/Text mining/Audio analysis/Audios/httpswwwyoutubecomwatchv=n8RTgWC23ng.wav\n"
     ]
    },
    {
     "name": "stderr",
     "output_type": "stream",
     "text": [
      "chunk:   0%|          | 0/16653 [00:00<?, ?it/s, now=None]              "
     ]
    },
    {
     "name": "stdout",
     "output_type": "stream",
     "text": [
      "MoviePy - Done.\n",
      "MoviePy - Writing audio in /Users/Lajobu/Desktop/Projects/Text mining/Audio analysis/Audios/httpswwwyoutubecomwatchv=XvJhWGjSeSs.wav\n"
     ]
    },
    {
     "name": "stderr",
     "output_type": "stream",
     "text": [
      "chunk:   3%|▎         | 403/13554 [00:00<00:03, 4026.61it/s, now=None]  "
     ]
    },
    {
     "name": "stdout",
     "output_type": "stream",
     "text": [
      "MoviePy - Done.\n",
      "MoviePy - Writing audio in /Users/Lajobu/Desktop/Projects/Text mining/Audio analysis/Audios/httpswwwyoutubecomwatchv=_jaL9Koza9k.wav\n"
     ]
    },
    {
     "name": "stderr",
     "output_type": "stream",
     "text": [
      "chunk:   2%|▏         | 404/21601 [00:00<00:05, 3966.19it/s, now=None]  "
     ]
    },
    {
     "name": "stdout",
     "output_type": "stream",
     "text": [
      "MoviePy - Done.\n",
      "MoviePy - Writing audio in /Users/Lajobu/Desktop/Projects/Text mining/Audio analysis/Audios/httpswwwyoutubecomwatchv=9cW9feT0UvI.wav\n"
     ]
    },
    {
     "name": "stderr",
     "output_type": "stream",
     "text": [
      "chunk:   2%|▏         | 381/21530 [00:00<00:05, 3796.22it/s, now=None]  "
     ]
    },
    {
     "name": "stdout",
     "output_type": "stream",
     "text": [
      "MoviePy - Done.\n",
      "MoviePy - Writing audio in /Users/Lajobu/Desktop/Projects/Text mining/Audio analysis/Audios/httpswwwyoutubecomwatchv=SaVm7jQ4TT4.wav\n"
     ]
    },
    {
     "name": "stderr",
     "output_type": "stream",
     "text": [
      "chunk:   2%|▏         | 412/18469 [00:00<00:04, 4115.31it/s, now=None]  "
     ]
    },
    {
     "name": "stdout",
     "output_type": "stream",
     "text": [
      "MoviePy - Done.\n",
      "MoviePy - Writing audio in /Users/Lajobu/Desktop/Projects/Text mining/Audio analysis/Audios/httpswwwyoutubecomwatchv=toRxn7IXhrg.wav\n"
     ]
    },
    {
     "name": "stderr",
     "output_type": "stream",
     "text": [
      "chunk:   3%|▎         | 396/14844 [00:00<00:03, 3957.15it/s, now=None]  "
     ]
    },
    {
     "name": "stdout",
     "output_type": "stream",
     "text": [
      "MoviePy - Done.\n",
      "MoviePy - Writing audio in /Users/Lajobu/Desktop/Projects/Text mining/Audio analysis/Audios/httpswwwyoutubecomwatchv=OKo_Ysti9po.wav\n"
     ]
    },
    {
     "name": "stderr",
     "output_type": "stream",
     "text": [
      "chunk:   2%|▏         | 391/19546 [00:00<00:04, 3906.53it/s, now=None]  "
     ]
    },
    {
     "name": "stdout",
     "output_type": "stream",
     "text": [
      "MoviePy - Done.\n",
      "MoviePy - Writing audio in /Users/Lajobu/Desktop/Projects/Text mining/Audio analysis/Audios/httpswwwyoutubecomwatchv=mRpdQF78-IA.wav\n"
     ]
    },
    {
     "name": "stderr",
     "output_type": "stream",
     "text": [
      "                                                                        "
     ]
    },
    {
     "name": "stdout",
     "output_type": "stream",
     "text": [
      "MoviePy - Done.\n"
     ]
    },
    {
     "name": "stderr",
     "output_type": "stream",
     "text": [
      "\r"
     ]
    }
   ],
   "source": [
    "paths= []\n",
    "for file in [n for n in os.listdir(folder) if re.search('mp4',n)]:\n",
    "    full_path = os.path.join(folder, file)\n",
    "    output_path = os.path.join(folder, os.path.splitext(file)[0] + '.wav')\n",
    "    clip = mp.AudioFileClip(full_path) # disable if do not want any clipping\n",
    "    clip.write_audiofile(output_path)\n",
    "    paths.append(output_path)\n",
    "    os.remove(full_path) "
   ]
  },
  {
   "cell_type": "markdown",
   "metadata": {},
   "source": [
    "# 4) Performing speech recognition  "
   ]
  },
  {
   "cell_type": "markdown",
   "metadata": {},
   "source": [
    "### Once the audio of the videos are extracted we are ready to `perform speech recognition` with `google speech recognition`, this process would allow to extract the `transcript` of the videos"
   ]
  },
  {
   "cell_type": "markdown",
   "metadata": {},
   "source": [
    "### The `first 3 minutes` of each video will be extracted, and the `language` to be used is `en-US`, hence if any video is in `other language`, this will `not be used`, as per the `exception` of the below cell:"
   ]
  },
  {
   "cell_type": "code",
   "execution_count": 16,
   "metadata": {},
   "outputs": [],
   "source": [
    "r = sr.Recognizer()\n",
    "urls_list_ = urls.url.to_list()\n",
    "transcript= []\n",
    "rating= []\n",
    "for i in range(len(paths)):\n",
    "    with sr.AudioFile(paths[i]) as source:\n",
    "        try:\n",
    "            audio= r.record(source, duration= 180)               \n",
    "            n= r.recognize_google(audio, language='en-US', show_all=True)\n",
    "            transcript.append(''.join(str(val) for key, val in n.items()))\n",
    "            rating.append(YouTube(urls_list_[i]).rating)\n",
    "        except: \n",
    "            transcript.append(np.nan)\n",
    "            rating.append(np.nan)"
   ]
  },
  {
   "cell_type": "code",
   "execution_count": 17,
   "metadata": {},
   "outputs": [],
   "source": [
    "urls[\"transcript\"] = transcript\n",
    "urls[\"rating\"] = rating"
   ]
  },
  {
   "cell_type": "code",
   "execution_count": 18,
   "metadata": {},
   "outputs": [],
   "source": [
    "urls.dropna(subset=['transcript'], inplace=True)"
   ]
  },
  {
   "cell_type": "markdown",
   "metadata": {},
   "source": [
    "### After the above mentioned process `136 transcripts of videos` were extracted"
   ]
  },
  {
   "cell_type": "code",
   "execution_count": 19,
   "metadata": {},
   "outputs": [
    {
     "data": {
      "text/plain": [
       "136"
      ]
     },
     "execution_count": 19,
     "metadata": {},
     "output_type": "execute_result"
    }
   ],
   "source": [
    "len(urls)"
   ]
  },
  {
   "cell_type": "code",
   "execution_count": 20,
   "metadata": {},
   "outputs": [
    {
     "data": {
      "text/html": [
       "<div>\n",
       "<style scoped>\n",
       "    .dataframe tbody tr th:only-of-type {\n",
       "        vertical-align: middle;\n",
       "    }\n",
       "\n",
       "    .dataframe tbody tr th {\n",
       "        vertical-align: top;\n",
       "    }\n",
       "\n",
       "    .dataframe thead th {\n",
       "        text-align: right;\n",
       "    }\n",
       "</style>\n",
       "<table border=\"1\" class=\"dataframe\">\n",
       "  <thead>\n",
       "    <tr style=\"text-align: right;\">\n",
       "      <th></th>\n",
       "      <th>url</th>\n",
       "      <th>description</th>\n",
       "      <th>duration</th>\n",
       "      <th>views</th>\n",
       "      <th>transcript</th>\n",
       "      <th>rating</th>\n",
       "    </tr>\n",
       "  </thead>\n",
       "  <tbody>\n",
       "    <tr>\n",
       "      <th>0</th>\n",
       "      <td>https://www.youtube.com/watch?v=0UiXx-_fL5U</td>\n",
       "      <td>Cyberpunk 2077 Review - The Best Unfinished Ga...</td>\n",
       "      <td>28:43</td>\n",
       "      <td>105676</td>\n",
       "      <td>[{'transcript': 'so I get a lot of questions a...</td>\n",
       "      <td>4.864700</td>\n",
       "    </tr>\n",
       "    <tr>\n",
       "      <th>1</th>\n",
       "      <td>https://www.youtube.com/watch?v=QcH9c_rJItE</td>\n",
       "      <td>Cyberpunk 2077 - Easy Allies Review</td>\n",
       "      <td>13:34</td>\n",
       "      <td>22384</td>\n",
       "      <td>[{'transcript': \"how does cyberpunk 2077 on th...</td>\n",
       "      <td>4.870146</td>\n",
       "    </tr>\n",
       "    <tr>\n",
       "      <th>2</th>\n",
       "      <td>https://www.youtube.com/watch?v=QfpoTjUz1BY</td>\n",
       "      <td>Cyberpunk 2077 for Xbox One and PlayStation 4 ...</td>\n",
       "      <td>3:49</td>\n",
       "      <td>922825</td>\n",
       "      <td>[{'transcript': \"this is a real blood of my cy...</td>\n",
       "      <td>4.836886</td>\n",
       "    </tr>\n",
       "    <tr>\n",
       "      <th>3</th>\n",
       "      <td>https://www.youtube.com/watch?v=FPzMhniHikQ</td>\n",
       "      <td>A Brutally Honest Review Of Cyberpunk 2077</td>\n",
       "      <td>10:36</td>\n",
       "      <td>18784</td>\n",
       "      <td>[{'transcript': \"what is going on your nation ...</td>\n",
       "      <td>4.854014</td>\n",
       "    </tr>\n",
       "    <tr>\n",
       "      <th>5</th>\n",
       "      <td>https://www.youtube.com/watch?v=z1rUP17fayA</td>\n",
       "      <td>Cyberpunk 2077 PC Review (With New Gameplay)</td>\n",
       "      <td>9:00</td>\n",
       "      <td>1306680</td>\n",
       "      <td>[{'transcript': 'what the what the hell are yo...</td>\n",
       "      <td>4.627821</td>\n",
       "    </tr>\n",
       "  </tbody>\n",
       "</table>\n",
       "</div>"
      ],
      "text/plain": [
       "                                           url  \\\n",
       "0  https://www.youtube.com/watch?v=0UiXx-_fL5U   \n",
       "1  https://www.youtube.com/watch?v=QcH9c_rJItE   \n",
       "2  https://www.youtube.com/watch?v=QfpoTjUz1BY   \n",
       "3  https://www.youtube.com/watch?v=FPzMhniHikQ   \n",
       "5  https://www.youtube.com/watch?v=z1rUP17fayA   \n",
       "\n",
       "                                         description duration    views  \\\n",
       "0  Cyberpunk 2077 Review - The Best Unfinished Ga...    28:43   105676   \n",
       "1                Cyberpunk 2077 - Easy Allies Review    13:34    22384   \n",
       "2  Cyberpunk 2077 for Xbox One and PlayStation 4 ...     3:49   922825   \n",
       "3         A Brutally Honest Review Of Cyberpunk 2077    10:36    18784   \n",
       "5       Cyberpunk 2077 PC Review (With New Gameplay)     9:00  1306680   \n",
       "\n",
       "                                          transcript    rating  \n",
       "0  [{'transcript': 'so I get a lot of questions a...  4.864700  \n",
       "1  [{'transcript': \"how does cyberpunk 2077 on th...  4.870146  \n",
       "2  [{'transcript': \"this is a real blood of my cy...  4.836886  \n",
       "3  [{'transcript': \"what is going on your nation ...  4.854014  \n",
       "5  [{'transcript': 'what the what the hell are yo...  4.627821  "
      ]
     },
     "execution_count": 20,
     "metadata": {},
     "output_type": "execute_result"
    }
   ],
   "source": [
    "urls.head()"
   ]
  },
  {
   "cell_type": "markdown",
   "metadata": {},
   "source": [
    "### As it can be seen above, the `transcript` column also always includes the text `transcript'` and `confidence'`, this could be `removed with regex`, however for the purpose of the sentiment analysis it is not neccesary, as the words can be omitted within the function `stopwords.add()`"
   ]
  },
  {
   "cell_type": "code",
   "execution_count": 21,
   "metadata": {},
   "outputs": [],
   "source": [
    "#urls.to_csv(\"~/Desktop/Projects/Text mining/Audio analysis/cyberpunk.csv\", index=False)"
   ]
  }
 ],
 "metadata": {
  "kernelspec": {
   "display_name": "Python 3",
   "language": "python",
   "name": "python3"
  },
  "language_info": {
   "codemirror_mode": {
    "name": "ipython",
    "version": 3
   },
   "file_extension": ".py",
   "mimetype": "text/x-python",
   "name": "python",
   "nbconvert_exporter": "python",
   "pygments_lexer": "ipython3",
   "version": "3.8.3"
  }
 },
 "nbformat": 4,
 "nbformat_minor": 4
}
